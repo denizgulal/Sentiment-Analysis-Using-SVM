{
 "cells": [
  {
   "cell_type": "markdown",
   "id": "0b249675-f7ac-40ff-8357-44ae808b664d",
   "metadata": {
    "tags": []
   },
   "source": [
    "# Text Mining Topic Analysis"
   ]
  },
  {
   "cell_type": "markdown",
   "id": "e63f663a-9ec3-448c-99fe-13843eea9179",
   "metadata": {
    "tags": []
   },
   "source": [
    "## Read Data"
   ]
  },
  {
   "cell_type": "code",
   "execution_count": 1,
   "id": "ab216dfd-fd58-41cc-82dd-20e137a1be6d",
   "metadata": {},
   "outputs": [],
   "source": [
    "import pandas as pd\n",
    "import numpy as np"
   ]
  },
  {
   "cell_type": "code",
   "execution_count": 2,
   "id": "01b16099-a40c-4f07-8067-fed3da75d552",
   "metadata": {},
   "outputs": [],
   "source": [
    "df = pd.read_csv(\"dataset_shrunk.csv\")"
   ]
  },
  {
   "cell_type": "code",
   "execution_count": 3,
   "id": "3dd0ef5c-e50a-40a1-8e68-f8851d005354",
   "metadata": {},
   "outputs": [],
   "source": [
    "assigned_df = pd.read_table(\"sentiment-topic-final-test.tsv\")"
   ]
  },
  {
   "cell_type": "code",
   "execution_count": 4,
   "id": "6e7d1212-e723-44ae-afef-a9185d94c603",
   "metadata": {},
   "outputs": [
    {
     "data": {
      "text/html": [
       "<div>\n",
       "<style scoped>\n",
       "    .dataframe tbody tr th:only-of-type {\n",
       "        vertical-align: middle;\n",
       "    }\n",
       "\n",
       "    .dataframe tbody tr th {\n",
       "        vertical-align: top;\n",
       "    }\n",
       "\n",
       "    .dataframe thead th {\n",
       "        text-align: right;\n",
       "    }\n",
       "</style>\n",
       "<table border=\"1\" class=\"dataframe\">\n",
       "  <thead>\n",
       "    <tr style=\"text-align: right;\">\n",
       "      <th></th>\n",
       "      <th>sentence id</th>\n",
       "      <th>text</th>\n",
       "      <th>sentiment</th>\n",
       "      <th>topic</th>\n",
       "    </tr>\n",
       "  </thead>\n",
       "  <tbody>\n",
       "    <tr>\n",
       "      <th>0</th>\n",
       "      <td>22</td>\n",
       "      <td>Emma Darcy has always been a good writer I lov...</td>\n",
       "      <td>positive</td>\n",
       "      <td>book</td>\n",
       "    </tr>\n",
       "    <tr>\n",
       "      <th>1</th>\n",
       "      <td>32</td>\n",
       "      <td>WOW! This is a major league book of hotness!  ...</td>\n",
       "      <td>positive</td>\n",
       "      <td>book</td>\n",
       "    </tr>\n",
       "    <tr>\n",
       "      <th>2</th>\n",
       "      <td>39</td>\n",
       "      <td>Love this case!  It protects the Kindle and op...</td>\n",
       "      <td>positive</td>\n",
       "      <td>book</td>\n",
       "    </tr>\n",
       "    <tr>\n",
       "      <th>3</th>\n",
       "      <td>48</td>\n",
       "      <td>Loved all the characters in each book cant wai...</td>\n",
       "      <td>positive</td>\n",
       "      <td>book</td>\n",
       "    </tr>\n",
       "    <tr>\n",
       "      <th>4</th>\n",
       "      <td>62</td>\n",
       "      <td>Drew finds out from his girlfriend's reading m...</td>\n",
       "      <td>positive</td>\n",
       "      <td>book</td>\n",
       "    </tr>\n",
       "  </tbody>\n",
       "</table>\n",
       "</div>"
      ],
      "text/plain": [
       "   sentence id                                               text sentiment  \\\n",
       "0           22  Emma Darcy has always been a good writer I lov...  positive   \n",
       "1           32  WOW! This is a major league book of hotness!  ...  positive   \n",
       "2           39  Love this case!  It protects the Kindle and op...  positive   \n",
       "3           48  Loved all the characters in each book cant wai...  positive   \n",
       "4           62  Drew finds out from his girlfriend's reading m...  positive   \n",
       "\n",
       "  topic  \n",
       "0  book  \n",
       "1  book  \n",
       "2  book  \n",
       "3  book  \n",
       "4  book  "
      ]
     },
     "execution_count": 4,
     "metadata": {},
     "output_type": "execute_result"
    }
   ],
   "source": [
    "df.head()"
   ]
  },
  {
   "cell_type": "code",
   "execution_count": 5,
   "id": "7f356abd-5884-49c0-bbe1-b57b5ca90cae",
   "metadata": {},
   "outputs": [
    {
     "name": "stdout",
     "output_type": "stream",
     "text": [
      "Emma Darcy has always been a good writer I love reading her books. they are the best pick me up when I am in a funk so as always great read.\n"
     ]
    }
   ],
   "source": [
    "for example_sentence in df.text[:1]:\n",
    "    print(example_sentence)"
   ]
  },
  {
   "cell_type": "code",
   "execution_count": 6,
   "id": "19e5e32d-c3f2-4c2f-b721-7030db8f0c0b",
   "metadata": {},
   "outputs": [
    {
     "data": {
      "text/plain": [
       "book          1500\n",
       "restaurant    1500\n",
       "movie         1500\n",
       "Name: topic, dtype: int64"
      ]
     },
     "execution_count": 6,
     "metadata": {},
     "output_type": "execute_result"
    }
   ],
   "source": [
    "df.topic.value_counts()"
   ]
  },
  {
   "cell_type": "code",
   "execution_count": 7,
   "id": "998af2c5-fc12-41ba-b686-430b77b61b66",
   "metadata": {},
   "outputs": [],
   "source": [
    "# !conda install -c conda-forge wordcloud"
   ]
  },
  {
   "cell_type": "code",
   "execution_count": 8,
   "id": "f849626c-f109-4049-8139-0ac23852e263",
   "metadata": {},
   "outputs": [
    {
     "data": {
      "image/png": "[encoded data removed]",
      "text/plain": [
       "<PIL.Image.Image image mode=RGB size=400x200 at 0x7F1CA64CAD10>"
      ]
     },
     "execution_count": 8,
     "metadata": {},
     "output_type": "execute_result"
    }
   ],
   "source": [
    "# Import the wordcloud library\n",
    "from wordcloud import WordCloud\n",
    "\n",
    "# Join the different processed titles together.\n",
    "long_string = ','.join(list(df['text'].values))\n",
    "\n",
    "# Create a WordCloud object\n",
    "wordcloud = WordCloud(background_color=\"white\", max_words=1000, contour_width=3, contour_color='steelblue')\n",
    "\n",
    "# Generate a word cloud\n",
    "wordcloud.generate(long_string)\n",
    "\n",
    "# Visualize the word cloud\n",
    "wordcloud.to_image()"
   ]
  },
  {
   "cell_type": "markdown",
   "id": "f44542d8-17cc-400c-a6cb-3f579fbb1fb2",
   "metadata": {
    "tags": []
   },
   "source": [
    "## Preprocess the Data"
   ]
  },
  {
   "cell_type": "markdown",
   "id": "80112015-ec14-446c-ac34-d5fa75460eb7",
   "metadata": {},
   "source": [
    "We first make everything lowercase. Then we will make new columns which contain only clean words with different representations. This is for training multiple models with ease."
   ]
  },
  {
   "cell_type": "code",
   "execution_count": 9,
   "id": "1047c7d0-67f8-4efe-bfc3-767778f6f450",
   "metadata": {},
   "outputs": [],
   "source": [
    "df['processed'] = df['text'].map(lambda x: x.lower())"
   ]
  },
  {
   "cell_type": "code",
   "execution_count": 10,
   "id": "2d980d88-2647-4997-b515-3886c3633410",
   "metadata": {},
   "outputs": [
    {
     "data": {
      "text/html": [
       "<div>\n",
       "<style scoped>\n",
       "    .dataframe tbody tr th:only-of-type {\n",
       "        vertical-align: middle;\n",
       "    }\n",
       "\n",
       "    .dataframe tbody tr th {\n",
       "        vertical-align: top;\n",
       "    }\n",
       "\n",
       "    .dataframe thead th {\n",
       "        text-align: right;\n",
       "    }\n",
       "</style>\n",
       "<table border=\"1\" class=\"dataframe\">\n",
       "  <thead>\n",
       "    <tr style=\"text-align: right;\">\n",
       "      <th></th>\n",
       "      <th>sentence id</th>\n",
       "      <th>text</th>\n",
       "      <th>sentiment</th>\n",
       "      <th>topic</th>\n",
       "      <th>processed</th>\n",
       "    </tr>\n",
       "  </thead>\n",
       "  <tbody>\n",
       "    <tr>\n",
       "      <th>0</th>\n",
       "      <td>22</td>\n",
       "      <td>Emma Darcy has always been a good writer I lov...</td>\n",
       "      <td>positive</td>\n",
       "      <td>book</td>\n",
       "      <td>emma darcy has always been a good writer i lov...</td>\n",
       "    </tr>\n",
       "    <tr>\n",
       "      <th>1</th>\n",
       "      <td>32</td>\n",
       "      <td>WOW! This is a major league book of hotness!  ...</td>\n",
       "      <td>positive</td>\n",
       "      <td>book</td>\n",
       "      <td>wow! this is a major league book of hotness!  ...</td>\n",
       "    </tr>\n",
       "    <tr>\n",
       "      <th>2</th>\n",
       "      <td>39</td>\n",
       "      <td>Love this case!  It protects the Kindle and op...</td>\n",
       "      <td>positive</td>\n",
       "      <td>book</td>\n",
       "      <td>love this case!  it protects the kindle and op...</td>\n",
       "    </tr>\n",
       "    <tr>\n",
       "      <th>3</th>\n",
       "      <td>48</td>\n",
       "      <td>Loved all the characters in each book cant wai...</td>\n",
       "      <td>positive</td>\n",
       "      <td>book</td>\n",
       "      <td>loved all the characters in each book cant wai...</td>\n",
       "    </tr>\n",
       "    <tr>\n",
       "      <th>4</th>\n",
       "      <td>62</td>\n",
       "      <td>Drew finds out from his girlfriend's reading m...</td>\n",
       "      <td>positive</td>\n",
       "      <td>book</td>\n",
       "      <td>drew finds out from his girlfriend's reading m...</td>\n",
       "    </tr>\n",
       "  </tbody>\n",
       "</table>\n",
       "</div>"
      ],
      "text/plain": [
       "   sentence id                                               text sentiment  \\\n",
       "0           22  Emma Darcy has always been a good writer I lov...  positive   \n",
       "1           32  WOW! This is a major league book of hotness!  ...  positive   \n",
       "2           39  Love this case!  It protects the Kindle and op...  positive   \n",
       "3           48  Loved all the characters in each book cant wai...  positive   \n",
       "4           62  Drew finds out from his girlfriend's reading m...  positive   \n",
       "\n",
       "  topic                                          processed  \n",
       "0  book  emma darcy has always been a good writer i lov...  \n",
       "1  book  wow! this is a major league book of hotness!  ...  \n",
       "2  book  love this case!  it protects the kindle and op...  \n",
       "3  book  loved all the characters in each book cant wai...  \n",
       "4  book  drew finds out from his girlfriend's reading m...  "
      ]
     },
     "execution_count": 10,
     "metadata": {},
     "output_type": "execute_result"
    }
   ],
   "source": [
    "df.head()"
   ]
  },
  {
   "cell_type": "markdown",
   "id": "534d9ab2-f4e6-432d-bba8-2396340ff95b",
   "metadata": {},
   "source": [
    "We use gensims stopwords."
   ]
  },
  {
   "cell_type": "code",
   "execution_count": 11,
   "id": "90787f81-853d-4bf2-b5a7-8d06309ebe2d",
   "metadata": {},
   "outputs": [],
   "source": [
    "import gensim\n",
    "from gensim.parsing.preprocessing import STOPWORDS\n",
    "\n",
    "import nltk\n",
    "from nltk.corpus import stopwords"
   ]
  },
  {
   "cell_type": "code",
   "execution_count": 12,
   "id": "e52a037b-a104-4d3f-af14-1f1be54a4a54",
   "metadata": {},
   "outputs": [
    {
     "data": {
      "text/plain": [
       "337"
      ]
     },
     "execution_count": 12,
     "metadata": {},
     "output_type": "execute_result"
    }
   ],
   "source": [
    "len(gensim.parsing.preprocessing.STOPWORDS)"
   ]
  },
  {
   "cell_type": "code",
   "execution_count": 13,
   "id": "a302561e-9817-4455-9253-b588c9becd98",
   "metadata": {
    "tags": []
   },
   "outputs": [],
   "source": [
    "#stopwords.words('english')"
   ]
  },
  {
   "cell_type": "code",
   "execution_count": 14,
   "id": "c5da0e7f-936f-4f64-b75a-6000c11e4ddf",
   "metadata": {
    "tags": []
   },
   "outputs": [
    {
     "name": "stdout",
     "output_type": "stream",
     "text": [
      "frozenset({'via', 'elsewhere', 'nevertheless', 'fifty', 'each', 'why', 'thereafter', 'made', 'here', 'used', 'thru', 'amoungst', 'together', 'meanwhile', 'last', 'itself', 'they', 'off', 'cannot', 'eleven', 'kg', 'none', 'where', 'him', 'first', 'namely', 'became', 'whole', 'within', 'fill', 'three', 'across', 'nobody', 'thin', 'ever', 'more', 'without', 'indeed', 'full', 'seemed', 'therefore', 'either', 'although', 'one', 'both', 'moreover', 'third', 'detail', 'don', 'back', 'further', 'else', 'since', 'were', 'everything', 'any', 'nor', 'so', 'part', 'this', 'than', 'etc', 'against', 'whither', 'though', 'under', 'which', 'does', 'while', 'them', 'but', 'be', 'sometimes', 'thereupon', 'might', 'somewhere', 'whereafter', 'due', 'neither', 'latterly', 'same', 'done', 'up', 'afterwards', 'must', 'bill', 'describe', 'every', 'ie', 'who', 'can', 'noone', 'themselves', 'amount', 'will', 'show', 'whoever', 'call', 'an', 'doing', 'he', 'system', 'several', 'should', 'hereby', 'perhaps', 'to', 'towards', 'such', 'would', 'keep', 'not', 'i', 'regarding', 'after', 'what', 'many', 'her', 'least', 'make', 'could', 'among', 'everyone', 'at', 're', 'few', 'when', 'cant', 'becoming', 'besides', 'my', 'see', 'you', 'all', 'been', 'throughout', 'find', 'bottom', 'except', 'other', 'behind', 'if', 'whenever', 'no', 'anything', 'into', 'empty', 'with', 'ours', 'move', 'only', 'others', 'computer', 'his', 'whereby', 'sincere', 'whereupon', 'next', 'are', 'someone', 'from', 'because', 'of', 'some', 'cry', 'once', 'top', 'seem', 'never', 'ten', 'out', 'doesn', 'go', 'about', 'on', 'less', 'often', 'hundred', 'whom', 'also', 'couldnt', 'between', 'fifteen', 'during', 'those', 'most', 'its', 'below', 'everywhere', 'and', 'now', 'again', 'himself', 'over', 'did', 'anywhere', 'these', 'mine', 'seems', 'already', 'down', 'it', 'eight', 'we', 'the', 'interest', 'just', 'well', 'beforehand', 'per', 'whether', 'latter', 'for', 'inc', 'con', 'using', 'by', 'hereafter', 'anyway', 'sixty', 'hence', 'unless', 'herein', 'get', 'she', 'former', 'serious', 'thereby', 'sometime', 'ourselves', 'quite', 'upon', 'something', 'always', 'whatever', 'herself', 'anyhow', 'our', 'anyone', 'thick', 'enough', 'twenty', 'until', 'another', 'rather', 'somehow', 'had', 'please', 'front', 'may', 'am', 'was', 'thus', 'un', 'amongst', 'their', 'me', 'five', 'name', 'co', 'almost', 'say', 'before', 'four', 'take', 'in', 'put', 'yourselves', 'us', 'become', 'ltd', 'alone', 'yet', 'too', 'onto', 'didn', 'hasnt', 'how', 'has', 'two', 'really', 'found', 'still', 'six', 'mostly', 'beside', 'yours', 'nine', 'forty', 'very', 'have', 'therein', 'give', 'myself', 'above', 'whose', 'there', 'whereas', 'being', 'toward', 'formerly', 'your', 'whence', 'hereupon', 'de', 'own', 'yourself', 'side', 'then', 'through', 'around', 'mill', 'fire', 'nowhere', 'twelve', 'becomes', 'seeming', 'nothing', 'even', 'as', 'thence', 'is', 'that', 'otherwise', 'wherein', 'a', 'beyond', 'however', 'along', 'do', 'various', 'wherever', 'much', 'or', 'hers', 'km', 'eg'})\n"
     ]
    }
   ],
   "source": [
    "print(gensim.parsing.preprocessing.STOPWORDS)"
   ]
  },
  {
   "cell_type": "code",
   "execution_count": 15,
   "id": "283e9cc6-0c99-4708-b2f1-4c74ea283566",
   "metadata": {},
   "outputs": [],
   "source": [
    "from nltk.stem import WordNetLemmatizer"
   ]
  },
  {
   "cell_type": "code",
   "execution_count": 16,
   "id": "2b939817-b7f4-40b6-8219-e935667656da",
   "metadata": {},
   "outputs": [],
   "source": [
    "lemmatizer = WordNetLemmatizer()"
   ]
  },
  {
   "cell_type": "code",
   "execution_count": 17,
   "id": "748dbc32-77ea-41c7-a142-735215dcb966",
   "metadata": {},
   "outputs": [],
   "source": [
    "from nltk.stem import SnowballStemmer"
   ]
  },
  {
   "cell_type": "code",
   "execution_count": 18,
   "id": "aa301ec3-8eee-4cd7-87e7-18faa83597a1",
   "metadata": {},
   "outputs": [],
   "source": [
    "stemmer = SnowballStemmer(\"english\")"
   ]
  },
  {
   "cell_type": "code",
   "execution_count": 19,
   "id": "5ac9a7fe-a45a-4699-aaab-edc2dc40d7f0",
   "metadata": {},
   "outputs": [],
   "source": [
    "def lemmatize(text):\n",
    "    return lemmatizer.lemmatize(text)"
   ]
  },
  {
   "cell_type": "code",
   "execution_count": 20,
   "id": "7850106e-beb1-489f-9886-ef0253a431f0",
   "metadata": {},
   "outputs": [],
   "source": [
    "def stemmize(text):\n",
    "    return stemmer.stem(text)"
   ]
  },
  {
   "cell_type": "code",
   "execution_count": 21,
   "id": "fa5e0049-9938-46df-8509-e55905ab70a0",
   "metadata": {},
   "outputs": [],
   "source": [
    "def remove_stopwords_into_array(text):\n",
    "    result = []\n",
    "    for token in gensim.utils.simple_preprocess(text):\n",
    "        if token not in gensim.parsing.preprocessing.STOPWORDS and len(token) > 3:\n",
    "            result.append(token)\n",
    "    return result"
   ]
  },
  {
   "cell_type": "code",
   "execution_count": 22,
   "id": "4a4ec8e4-442b-44b8-9f93-a7920611bfcc",
   "metadata": {},
   "outputs": [],
   "source": [
    "def lemmatize_array(text):\n",
    "    result = []\n",
    "    for token in text:\n",
    "        result.append(lemmatize(token))\n",
    "    \n",
    "    return result"
   ]
  },
  {
   "cell_type": "code",
   "execution_count": 23,
   "id": "44d524ac-7d00-41a2-b227-33a4042c1bc1",
   "metadata": {},
   "outputs": [],
   "source": [
    "def stemmize_array(text):\n",
    "    result = []\n",
    "    for token in text:\n",
    "        result.append(stemmize(token))\n",
    "    \n",
    "    return result"
   ]
  },
  {
   "cell_type": "code",
   "execution_count": 24,
   "id": "34072b9e-52fe-4987-93b1-6538e3fad493",
   "metadata": {},
   "outputs": [],
   "source": [
    "def stringize_array(array):\n",
    "    return ' '.join(array)"
   ]
  },
  {
   "cell_type": "code",
   "execution_count": 25,
   "id": "61772b12-9804-4021-8f27-23d0dd9b40d9",
   "metadata": {},
   "outputs": [],
   "source": [
    "df['processed'] = df['processed'].map(remove_stopwords_into_array)"
   ]
  },
  {
   "cell_type": "code",
   "execution_count": 26,
   "id": "a31e6bec-c4a2-420a-b0a1-e2eb748d2304",
   "metadata": {},
   "outputs": [],
   "source": [
    "df['lemmatized'] = df['processed'].map(lemmatize_array)"
   ]
  },
  {
   "cell_type": "code",
   "execution_count": 27,
   "id": "19315a39-37bd-437d-84e6-3932f8b2aa8b",
   "metadata": {},
   "outputs": [],
   "source": [
    "df['stemmized'] = df['processed'].map(stemmize_array)"
   ]
  },
  {
   "cell_type": "code",
   "execution_count": 28,
   "id": "aec8b556-652e-41e7-b2c2-000895650686",
   "metadata": {},
   "outputs": [],
   "source": [
    "df['processed'] = df['lemmatized'].map(stringize_array)"
   ]
  },
  {
   "cell_type": "code",
   "execution_count": 29,
   "id": "3dad898f-1b51-4c68-8114-74c3411e74b6",
   "metadata": {},
   "outputs": [],
   "source": [
    "df['stem_str'] = df['stemmized'].map(stringize_array)"
   ]
  },
  {
   "cell_type": "code",
   "execution_count": 30,
   "id": "d05e8de9-4345-4a41-b6d7-8e8a958aae90",
   "metadata": {},
   "outputs": [
    {
     "data": {
      "text/html": [
       "<div>\n",
       "<style scoped>\n",
       "    .dataframe tbody tr th:only-of-type {\n",
       "        vertical-align: middle;\n",
       "    }\n",
       "\n",
       "    .dataframe tbody tr th {\n",
       "        vertical-align: top;\n",
       "    }\n",
       "\n",
       "    .dataframe thead th {\n",
       "        text-align: right;\n",
       "    }\n",
       "</style>\n",
       "<table border=\"1\" class=\"dataframe\">\n",
       "  <thead>\n",
       "    <tr style=\"text-align: right;\">\n",
       "      <th></th>\n",
       "      <th>sentence id</th>\n",
       "      <th>text</th>\n",
       "      <th>sentiment</th>\n",
       "      <th>topic</th>\n",
       "      <th>processed</th>\n",
       "      <th>lemmatized</th>\n",
       "      <th>stemmized</th>\n",
       "      <th>stem_str</th>\n",
       "    </tr>\n",
       "  </thead>\n",
       "  <tbody>\n",
       "    <tr>\n",
       "      <th>0</th>\n",
       "      <td>22</td>\n",
       "      <td>Emma Darcy has always been a good writer I lov...</td>\n",
       "      <td>positive</td>\n",
       "      <td>book</td>\n",
       "      <td>emma darcy good writer love reading book best ...</td>\n",
       "      <td>[emma, darcy, good, writer, love, reading, boo...</td>\n",
       "      <td>[emma, darci, good, writer, love, read, book, ...</td>\n",
       "      <td>emma darci good writer love read book best pic...</td>\n",
       "    </tr>\n",
       "    <tr>\n",
       "      <th>1</th>\n",
       "      <td>32</td>\n",
       "      <td>WOW! This is a major league book of hotness!  ...</td>\n",
       "      <td>positive</td>\n",
       "      <td>book</td>\n",
       "      <td>major league book hotness love reading bisexua...</td>\n",
       "      <td>[major, league, book, hotness, love, reading, ...</td>\n",
       "      <td>[major, leagu, book, hot, love, read, bisexu, ...</td>\n",
       "      <td>major leagu book hot love read bisexu menag pl...</td>\n",
       "    </tr>\n",
       "    <tr>\n",
       "      <th>2</th>\n",
       "      <td>39</td>\n",
       "      <td>Love this case!  It protects the Kindle and op...</td>\n",
       "      <td>positive</td>\n",
       "      <td>book</td>\n",
       "      <td>love case protects kindle open side likely dro...</td>\n",
       "      <td>[love, case, protects, kindle, open, side, lik...</td>\n",
       "      <td>[love, case, protect, kindl, open, side, like,...</td>\n",
       "      <td>love case protect kindl open side like drop op...</td>\n",
       "    </tr>\n",
       "    <tr>\n",
       "      <th>3</th>\n",
       "      <td>48</td>\n",
       "      <td>Loved all the characters in each book cant wai...</td>\n",
       "      <td>positive</td>\n",
       "      <td>book</td>\n",
       "      <td>loved character book wait book series truly st...</td>\n",
       "      <td>[loved, character, book, wait, book, series, t...</td>\n",
       "      <td>[love, charact, book, wait, book, seri, truli,...</td>\n",
       "      <td>love charact book wait book seri truli steami ...</td>\n",
       "    </tr>\n",
       "    <tr>\n",
       "      <th>4</th>\n",
       "      <td>62</td>\n",
       "      <td>Drew finds out from his girlfriend's reading m...</td>\n",
       "      <td>positive</td>\n",
       "      <td>book</td>\n",
       "      <td>drew find girlfriend reading material eacute n...</td>\n",
       "      <td>[drew, find, girlfriend, reading, material, ea...</td>\n",
       "      <td>[drew, find, girlfriend, read, materi, eacut, ...</td>\n",
       "      <td>drew find girlfriend read materi eacut nage fa...</td>\n",
       "    </tr>\n",
       "  </tbody>\n",
       "</table>\n",
       "</div>"
      ],
      "text/plain": [
       "   sentence id                                               text sentiment  \\\n",
       "0           22  Emma Darcy has always been a good writer I lov...  positive   \n",
       "1           32  WOW! This is a major league book of hotness!  ...  positive   \n",
       "2           39  Love this case!  It protects the Kindle and op...  positive   \n",
       "3           48  Loved all the characters in each book cant wai...  positive   \n",
       "4           62  Drew finds out from his girlfriend's reading m...  positive   \n",
       "\n",
       "  topic                                          processed  \\\n",
       "0  book  emma darcy good writer love reading book best ...   \n",
       "1  book  major league book hotness love reading bisexua...   \n",
       "2  book  love case protects kindle open side likely dro...   \n",
       "3  book  loved character book wait book series truly st...   \n",
       "4  book  drew find girlfriend reading material eacute n...   \n",
       "\n",
       "                                          lemmatized  \\\n",
       "0  [emma, darcy, good, writer, love, reading, boo...   \n",
       "1  [major, league, book, hotness, love, reading, ...   \n",
       "2  [love, case, protects, kindle, open, side, lik...   \n",
       "3  [loved, character, book, wait, book, series, t...   \n",
       "4  [drew, find, girlfriend, reading, material, ea...   \n",
       "\n",
       "                                           stemmized  \\\n",
       "0  [emma, darci, good, writer, love, read, book, ...   \n",
       "1  [major, leagu, book, hot, love, read, bisexu, ...   \n",
       "2  [love, case, protect, kindl, open, side, like,...   \n",
       "3  [love, charact, book, wait, book, seri, truli,...   \n",
       "4  [drew, find, girlfriend, read, materi, eacut, ...   \n",
       "\n",
       "                                            stem_str  \n",
       "0  emma darci good writer love read book best pic...  \n",
       "1  major leagu book hot love read bisexu menag pl...  \n",
       "2  love case protect kindl open side like drop op...  \n",
       "3  love charact book wait book seri truli steami ...  \n",
       "4  drew find girlfriend read materi eacut nage fa...  "
      ]
     },
     "execution_count": 30,
     "metadata": {},
     "output_type": "execute_result"
    }
   ],
   "source": [
    "df.head()"
   ]
  },
  {
   "cell_type": "markdown",
   "id": "d59700d5-b4c3-4217-bbfa-6fc74be58a6b",
   "metadata": {},
   "source": [
    "We now have clean enough data to feed into a model. We can also drop columns if we run into memory problems. Now we will split the dataset into train and test(10%). "
   ]
  },
  {
   "cell_type": "code",
   "execution_count": 31,
   "id": "7e19e0be-e073-4037-9448-51985977130d",
   "metadata": {},
   "outputs": [],
   "source": [
    "from sklearn.model_selection import train_test_split"
   ]
  },
  {
   "cell_type": "code",
   "execution_count": 32,
   "id": "6ba18aeb-b76d-4ba6-a041-97dfc641ce82",
   "metadata": {},
   "outputs": [],
   "source": [
    "\n",
    "#For gensim LDA, Array\n",
    "X_train_lem, X_test_lem, y_train_lem, y_test_lem = train_test_split(df.lemmatized, df.topic, test_size = 0.1)\n",
    "\n",
    "#For SKLEARN LDA, Strings\n",
    "X_train_str, X_test_str, y_train_str, y_test_str = train_test_split(df.processed, df.topic, test_size = 0.1)\n",
    "\n",
    "#For SKLEARN TF-IDF, Strings\n",
    "X_train_stem, X_test_stem, y_train_stem, y_test_stem = train_test_split(df.stem_str, df.topic, test_size = 0.1)"
   ]
  },
  {
   "cell_type": "markdown",
   "id": "c38d4667-dcac-4ce3-9edd-dc3c31fedc4e",
   "metadata": {},
   "source": [
    "Now, we can train models by supplying X_train_. as data and y_train_. as labels."
   ]
  },
  {
   "cell_type": "markdown",
   "id": "343fb0f3-105d-44cf-9bde-1adb8e2f0228",
   "metadata": {},
   "source": [
    "We also want to process our assigned dataset the same way so that we can test on it."
   ]
  },
  {
   "cell_type": "code",
   "execution_count": 33,
   "id": "f763f283-5671-4fbb-a743-dc9aa64f466f",
   "metadata": {},
   "outputs": [],
   "source": [
    "assigned_df['processed'] = assigned_df['text'].map(lambda x: x.lower())"
   ]
  },
  {
   "cell_type": "code",
   "execution_count": 34,
   "id": "380e5906-7c28-4659-8e9a-864d38da3a27",
   "metadata": {},
   "outputs": [],
   "source": [
    "assigned_df['processed'] = assigned_df['processed'].map(remove_stopwords_into_array)"
   ]
  },
  {
   "cell_type": "code",
   "execution_count": 35,
   "id": "c7236476-af39-4e3d-a580-d9ffde10696d",
   "metadata": {},
   "outputs": [],
   "source": [
    "assigned_df['lemmatized'] = assigned_df['processed'].map(lemmatize_array)"
   ]
  },
  {
   "cell_type": "code",
   "execution_count": 36,
   "id": "2e2edf7f-32ee-4cd6-9895-4a76f51e6e63",
   "metadata": {},
   "outputs": [],
   "source": [
    "assigned_df['stemmized'] = assigned_df['processed'].map(stemmize_array)"
   ]
  },
  {
   "cell_type": "code",
   "execution_count": 37,
   "id": "029b7f33-45ac-40d0-bcd2-e8df078e2c4d",
   "metadata": {},
   "outputs": [],
   "source": [
    "assigned_df['processed'] = assigned_df['lemmatized'].map(stringize_array)"
   ]
  },
  {
   "cell_type": "code",
   "execution_count": 38,
   "id": "9314b0df-49fc-4160-8770-fa6a7c97351f",
   "metadata": {},
   "outputs": [],
   "source": [
    "assigned_df['stem_str'] = assigned_df['stemmized'].map(stringize_array)"
   ]
  },
  {
   "cell_type": "code",
   "execution_count": 39,
   "id": "020106ce-4e25-4e5c-a7ef-bff880befa29",
   "metadata": {},
   "outputs": [
    {
     "data": {
      "text/html": [
       "<div>\n",
       "<style scoped>\n",
       "    .dataframe tbody tr th:only-of-type {\n",
       "        vertical-align: middle;\n",
       "    }\n",
       "\n",
       "    .dataframe tbody tr th {\n",
       "        vertical-align: top;\n",
       "    }\n",
       "\n",
       "    .dataframe thead th {\n",
       "        text-align: right;\n",
       "    }\n",
       "</style>\n",
       "<table border=\"1\" class=\"dataframe\">\n",
       "  <thead>\n",
       "    <tr style=\"text-align: right;\">\n",
       "      <th></th>\n",
       "      <th>sentence id</th>\n",
       "      <th>text</th>\n",
       "      <th>sentiment</th>\n",
       "      <th>topic</th>\n",
       "      <th>processed</th>\n",
       "      <th>lemmatized</th>\n",
       "      <th>stemmized</th>\n",
       "      <th>stem_str</th>\n",
       "    </tr>\n",
       "  </thead>\n",
       "  <tbody>\n",
       "    <tr>\n",
       "      <th>0</th>\n",
       "      <td>0</td>\n",
       "      <td>It took eight years for Warner Brothers to rec...</td>\n",
       "      <td>negative</td>\n",
       "      <td>movie</td>\n",
       "      <td>took year warner brother recover disaster movie</td>\n",
       "      <td>[took, year, warner, brother, recover, disaste...</td>\n",
       "      <td>[took, year, warner, brother, recov, disast, m...</td>\n",
       "      <td>took year warner brother recov disast movi</td>\n",
       "    </tr>\n",
       "    <tr>\n",
       "      <th>1</th>\n",
       "      <td>1</td>\n",
       "      <td>All the New York University students love this...</td>\n",
       "      <td>positive</td>\n",
       "      <td>restaurant</td>\n",
       "      <td>york university student love diner soho make y...</td>\n",
       "      <td>[york, university, student, love, diner, soho,...</td>\n",
       "      <td>[york, univers, student, love, diner, soho, ma...</td>\n",
       "      <td>york univers student love diner soho make youn...</td>\n",
       "    </tr>\n",
       "    <tr>\n",
       "      <th>2</th>\n",
       "      <td>2</td>\n",
       "      <td>This Italian place is really trendy but they h...</td>\n",
       "      <td>negative</td>\n",
       "      <td>restaurant</td>\n",
       "      <td>italian place trendy forgotten important resta...</td>\n",
       "      <td>[italian, place, trendy, forgotten, important,...</td>\n",
       "      <td>[italian, place, trendi, forgotten, import, re...</td>\n",
       "      <td>italian place trendi forgotten import restaur ...</td>\n",
       "    </tr>\n",
       "    <tr>\n",
       "      <th>3</th>\n",
       "      <td>3</td>\n",
       "      <td>In conclusion, my review of this book would be...</td>\n",
       "      <td>positive</td>\n",
       "      <td>book</td>\n",
       "      <td>conclusion review book like jane austen unders...</td>\n",
       "      <td>[conclusion, review, book, like, jane, austen,...</td>\n",
       "      <td>[conclus, review, book, like, jane, austen, un...</td>\n",
       "      <td>conclus review book like jane austen understan...</td>\n",
       "    </tr>\n",
       "    <tr>\n",
       "      <th>4</th>\n",
       "      <td>4</td>\n",
       "      <td>The story of this movie is focused on Carl Bra...</td>\n",
       "      <td>neutral</td>\n",
       "      <td>movie</td>\n",
       "      <td>story movie focused carl brashear played cuba ...</td>\n",
       "      <td>[story, movie, focused, carl, brashear, played...</td>\n",
       "      <td>[stori, movi, focus, carl, brashear, play, cub...</td>\n",
       "      <td>stori movi focus carl brashear play cuba good ...</td>\n",
       "    </tr>\n",
       "    <tr>\n",
       "      <th>5</th>\n",
       "      <td>5</td>\n",
       "      <td>Chris O'Donnell stated that while filming for ...</td>\n",
       "      <td>neutral</td>\n",
       "      <td>movie</td>\n",
       "      <td>chris donnell stated filming movie felt like c...</td>\n",
       "      <td>[chris, donnell, stated, filming, movie, felt,...</td>\n",
       "      <td>[chris, donnel, state, film, movi, felt, like,...</td>\n",
       "      <td>chris donnel state film movi felt like commerci</td>\n",
       "    </tr>\n",
       "    <tr>\n",
       "      <th>6</th>\n",
       "      <td>6</td>\n",
       "      <td>My husband and I moved to Amsterdam 6 years ag...</td>\n",
       "      <td>positive</td>\n",
       "      <td>restaurant</td>\n",
       "      <td>husband moved amsterdam year long lived blauwb...</td>\n",
       "      <td>[husband, moved, amsterdam, year, long, lived,...</td>\n",
       "      <td>[husband, move, amsterdam, year, long, live, b...</td>\n",
       "      <td>husband move amsterdam year long live blauwbru...</td>\n",
       "    </tr>\n",
       "    <tr>\n",
       "      <th>7</th>\n",
       "      <td>7</td>\n",
       "      <td>Dame Maggie Smith performed her role excellent...</td>\n",
       "      <td>positive</td>\n",
       "      <td>movie</td>\n",
       "      <td>dame maggie smith performed role excellently m...</td>\n",
       "      <td>[dame, maggie, smith, performed, role, excelle...</td>\n",
       "      <td>[dame, maggi, smith, perform, role, excel, movi]</td>\n",
       "      <td>dame maggi smith perform role excel movi</td>\n",
       "    </tr>\n",
       "    <tr>\n",
       "      <th>8</th>\n",
       "      <td>8</td>\n",
       "      <td>The new movie by Mr. Kruno was shot in New Yor...</td>\n",
       "      <td>neutral</td>\n",
       "      <td>movie</td>\n",
       "      <td>movie kruno shot york story take place angeles</td>\n",
       "      <td>[movie, kruno, shot, york, story, take, place,...</td>\n",
       "      <td>[movi, kruno, shot, york, stori, take, place, ...</td>\n",
       "      <td>movi kruno shot york stori take place angel</td>\n",
       "    </tr>\n",
       "    <tr>\n",
       "      <th>9</th>\n",
       "      <td>9</td>\n",
       "      <td>I always have loved English novels, but I just...</td>\n",
       "      <td>negative</td>\n",
       "      <td>book</td>\n",
       "      <td>loved english novel couldn</td>\n",
       "      <td>[loved, english, novel, couldn]</td>\n",
       "      <td>[love, english, novel, couldn]</td>\n",
       "      <td>love english novel couldn</td>\n",
       "    </tr>\n",
       "  </tbody>\n",
       "</table>\n",
       "</div>"
      ],
      "text/plain": [
       "   sentence id                                               text sentiment  \\\n",
       "0            0  It took eight years for Warner Brothers to rec...  negative   \n",
       "1            1  All the New York University students love this...  positive   \n",
       "2            2  This Italian place is really trendy but they h...  negative   \n",
       "3            3  In conclusion, my review of this book would be...  positive   \n",
       "4            4  The story of this movie is focused on Carl Bra...   neutral   \n",
       "5            5  Chris O'Donnell stated that while filming for ...   neutral   \n",
       "6            6  My husband and I moved to Amsterdam 6 years ag...  positive   \n",
       "7            7  Dame Maggie Smith performed her role excellent...  positive   \n",
       "8            8  The new movie by Mr. Kruno was shot in New Yor...   neutral   \n",
       "9            9  I always have loved English novels, but I just...  negative   \n",
       "\n",
       "        topic                                          processed  \\\n",
       "0       movie    took year warner brother recover disaster movie   \n",
       "1  restaurant  york university student love diner soho make y...   \n",
       "2  restaurant  italian place trendy forgotten important resta...   \n",
       "3        book  conclusion review book like jane austen unders...   \n",
       "4       movie  story movie focused carl brashear played cuba ...   \n",
       "5       movie  chris donnell stated filming movie felt like c...   \n",
       "6  restaurant  husband moved amsterdam year long lived blauwb...   \n",
       "7       movie  dame maggie smith performed role excellently m...   \n",
       "8       movie     movie kruno shot york story take place angeles   \n",
       "9        book                         loved english novel couldn   \n",
       "\n",
       "                                          lemmatized  \\\n",
       "0  [took, year, warner, brother, recover, disaste...   \n",
       "1  [york, university, student, love, diner, soho,...   \n",
       "2  [italian, place, trendy, forgotten, important,...   \n",
       "3  [conclusion, review, book, like, jane, austen,...   \n",
       "4  [story, movie, focused, carl, brashear, played...   \n",
       "5  [chris, donnell, stated, filming, movie, felt,...   \n",
       "6  [husband, moved, amsterdam, year, long, lived,...   \n",
       "7  [dame, maggie, smith, performed, role, excelle...   \n",
       "8  [movie, kruno, shot, york, story, take, place,...   \n",
       "9                    [loved, english, novel, couldn]   \n",
       "\n",
       "                                           stemmized  \\\n",
       "0  [took, year, warner, brother, recov, disast, m...   \n",
       "1  [york, univers, student, love, diner, soho, ma...   \n",
       "2  [italian, place, trendi, forgotten, import, re...   \n",
       "3  [conclus, review, book, like, jane, austen, un...   \n",
       "4  [stori, movi, focus, carl, brashear, play, cub...   \n",
       "5  [chris, donnel, state, film, movi, felt, like,...   \n",
       "6  [husband, move, amsterdam, year, long, live, b...   \n",
       "7   [dame, maggi, smith, perform, role, excel, movi]   \n",
       "8  [movi, kruno, shot, york, stori, take, place, ...   \n",
       "9                     [love, english, novel, couldn]   \n",
       "\n",
       "                                            stem_str  \n",
       "0         took year warner brother recov disast movi  \n",
       "1  york univers student love diner soho make youn...  \n",
       "2  italian place trendi forgotten import restaur ...  \n",
       "3  conclus review book like jane austen understan...  \n",
       "4  stori movi focus carl brashear play cuba good ...  \n",
       "5    chris donnel state film movi felt like commerci  \n",
       "6  husband move amsterdam year long live blauwbru...  \n",
       "7           dame maggi smith perform role excel movi  \n",
       "8        movi kruno shot york stori take place angel  \n",
       "9                          love english novel couldn  "
      ]
     },
     "execution_count": 39,
     "metadata": {},
     "output_type": "execute_result"
    }
   ],
   "source": [
    "assigned_df"
   ]
  },
  {
   "cell_type": "markdown",
   "id": "797bfa07-0c4e-4572-ad0a-ed15a1799ef0",
   "metadata": {},
   "source": [
    "## Training Models"
   ]
  },
  {
   "cell_type": "markdown",
   "id": "e5f989b2-da4b-463b-a642-bac1a7b10746",
   "metadata": {},
   "source": [
    "# LDA with SKLEARN "
   ]
  },
  {
   "cell_type": "markdown",
   "id": "7942010f-591a-4a0b-8e56-b93b0d2750d2",
   "metadata": {},
   "source": [
    "We will first train LDA with SKLEARN, then GENSIM."
   ]
  },
  {
   "cell_type": "code",
   "execution_count": 40,
   "id": "d8636a1c-6f3b-4fe5-9057-30405ec102ac",
   "metadata": {},
   "outputs": [
    {
     "data": {
      "text/plain": [
       "book          1500\n",
       "restaurant    1500\n",
       "movie         1500\n",
       "Name: topic, dtype: int64"
      ]
     },
     "execution_count": 40,
     "metadata": {},
     "output_type": "execute_result"
    }
   ],
   "source": [
    "df.topic.value_counts()"
   ]
  },
  {
   "cell_type": "markdown",
   "id": "175bc8f3-4950-4827-b285-3a8d93249bff",
   "metadata": {},
   "source": [
    "We load Count and Tfidf Vectorizers"
   ]
  },
  {
   "cell_type": "code",
   "execution_count": 41,
   "id": "abdde901-eeed-466f-b78d-81062006db1f",
   "metadata": {},
   "outputs": [],
   "source": [
    "from sklearn.feature_extraction.text import CountVectorizer\n",
    "from sklearn.feature_extraction.text import TfidfVectorizer"
   ]
  },
  {
   "cell_type": "code",
   "execution_count": 42,
   "id": "41830587-2733-421f-b6b7-165daf440553",
   "metadata": {},
   "outputs": [],
   "source": [
    "#For visualization\n",
    "\n",
    "import matplotlib.pyplot as plt\n",
    "import seaborn as sns\n",
    "sns.set_style('whitegrid')\n",
    "%matplotlib inline\n",
    "\n",
    "# Helper function\n",
    "def plot_10_most_common_words(count_data, count_vectorizer):\n",
    "    import matplotlib.pyplot as plt\n",
    "    words = count_vectorizer.get_feature_names()\n",
    "    total_counts = np.zeros(len(words))\n",
    "    for t in count_data:\n",
    "        total_counts+=t.toarray()[0]\n",
    "    \n",
    "    count_dict = (zip(words, total_counts))\n",
    "    count_dict = sorted(count_dict, key=lambda x:x[1], reverse=True)[0:10]\n",
    "    words = [w[0] for w in count_dict]\n",
    "    counts = [w[1] for w in count_dict]\n",
    "    x_pos = np.arange(len(words)) \n",
    "    \n",
    "    plt.figure(2, figsize=(15, 15/1.6180))\n",
    "    plt.subplot(title='10 most common words')\n",
    "    sns.set_context(\"notebook\", font_scale=1.25, rc={\"lines.linewidth\": 2.5})\n",
    "    sns.barplot(x = x_pos, y= counts, palette='husl')\n",
    "    plt.xticks(x_pos, words, rotation=90) \n",
    "    plt.xlabel('words')\n",
    "    plt.ylabel('counts')\n",
    "    plt.show()"
   ]
  },
  {
   "cell_type": "code",
   "execution_count": 43,
   "id": "7040c73c-5214-4b1a-ae40-9ba812131a31",
   "metadata": {},
   "outputs": [],
   "source": [
    "count_vectorizer = CountVectorizer(min_df=1, # in how many documents the term minimally occurs\n",
    "                            max_df=0.5,\n",
    "                            tokenizer=nltk.word_tokenize)\n",
    "                            \n",
    "\n",
    "tfidf_vectorizer = TfidfVectorizer(min_df=1, # in how many documents the term minimally occurs\n",
    "                            max_df=0.5,\n",
    "                            tokenizer=nltk.word_tokenize)\n",
    "                            \n",
    "\n"
   ]
  },
  {
   "cell_type": "markdown",
   "id": "85c65034-f213-40fc-b954-ecba9a8ea19f",
   "metadata": {},
   "source": [
    "We noticed that SKLEARN LDA performs better when using the lemmatized words. Thus we are using the lemmatized X_train_str."
   ]
  },
  {
   "cell_type": "code",
   "execution_count": 44,
   "id": "197e1907-3a41-4b73-8ab6-f86ce98addfe",
   "metadata": {},
   "outputs": [],
   "source": [
    "X_train_cv = count_vectorizer.fit_transform(X_train_str)"
   ]
  },
  {
   "cell_type": "code",
   "execution_count": 45,
   "id": "5efead22-eda9-45a7-a20d-7130515b6f13",
   "metadata": {},
   "outputs": [
    {
     "name": "stderr",
     "output_type": "stream",
     "text": [
      "/home/ai/anaconda3/envs/textmin/lib/python3.7/site-packages/sklearn/utils/deprecation.py:87: FutureWarning: Function get_feature_names is deprecated; get_feature_names is deprecated in 1.0 and will be removed in 1.2. Please use get_feature_names_out instead.\n",
      "  warnings.warn(msg, category=FutureWarning)\n"
     ]
    }
   ],
   "source": [
    "words = count_vectorizer.get_feature_names()"
   ]
  },
  {
   "cell_type": "code",
   "execution_count": 46,
   "id": "8ebf4333-b76a-41c9-8f47-070af5524748",
   "metadata": {},
   "outputs": [
    {
     "data": {
      "text/plain": [
       "array(['ashutosh', 'ashwini', 'ashworth', 'asia', 'asiago', 'asian',\n",
       "       'aside', 'asimov', 'asinine', 'asked', 'askew', 'asking', 'asks',\n",
       "       'askwith', 'asleep', 'aslo', 'asparagus', 'aspect', 'asperger',\n",
       "       'aspiration', 'aspire', 'aspiring', 'ass', 'assailant', 'assassin',\n",
       "       'assassinate', 'assassination', 'assault', 'assemble', 'assembled',\n",
       "       'assembles', 'assembling', 'assembly', 'assert', 'asserting',\n",
       "       'assertion', 'assertive', 'assessing', 'asset', 'asshat', 'assign',\n",
       "       'assigned', 'assigning', 'assignment', 'assimilating', 'assist',\n",
       "       'assistance', 'assistant', 'assisted', 'assisting'], dtype=object)"
      ]
     },
     "execution_count": 46,
     "metadata": {},
     "output_type": "execute_result"
    }
   ],
   "source": [
    "count_vectorizer.get_feature_names_out()[1000:1050]"
   ]
  },
  {
   "cell_type": "code",
   "execution_count": 47,
   "id": "36029897-6556-45cc-8869-c916a41efeb9",
   "metadata": {},
   "outputs": [
    {
     "data": {
      "image/png": "[encoded data removed]",
      "text/plain": [
       "<Figure size 1500x927.07 with 1 Axes>"
      ]
     },
     "metadata": {},
     "output_type": "display_data"
    }
   ],
   "source": [
    "# Visualise the 10 most common words\n",
    "plot_10_most_common_words(X_train_cv, count_vectorizer)"
   ]
  },
  {
   "cell_type": "markdown",
   "id": "cccc5418-0603-478b-a169-2234c543dc97",
   "metadata": {},
   "source": [
    "The top 10 words in the count vectorizer shows that we have useless words present like \"love\" or \"good\" or \"like\". They add no value to topic analysis yet they are very frequent, the models would perform better if we removed such words."
   ]
  },
  {
   "cell_type": "markdown",
   "id": "662a142d-82a5-4c84-a7c0-f27bc5b98de3",
   "metadata": {},
   "source": [
    "We will first try LDA to see how it performs, but we have labeled data so will prefer supervised learning."
   ]
  },
  {
   "cell_type": "code",
   "execution_count": 48,
   "id": "14f38161-7fa1-4c63-aeec-78d9abaa176a",
   "metadata": {},
   "outputs": [],
   "source": [
    "import warnings\n",
    "warnings.simplefilter(\"ignore\", DeprecationWarning)\n",
    "\n",
    "# Load the LDA model from sk-learn\n",
    "from sklearn.decomposition import LatentDirichletAllocation as LDA\n",
    " \n",
    "# Helper function\n",
    "def print_topics(model, count_vectorizer, n_top_words):\n",
    "    words = count_vectorizer.get_feature_names()\n",
    "    for topic_idx, topic in enumerate(model.components_):\n",
    "        print(\"\\nTopic #%d:\" % topic_idx)\n",
    "        print(\" \".join([words[i]\n",
    "                        for i in topic.argsort()[:-n_top_words - 1:-1]]))\n",
    "        \n",
    "# Tweak the two parameters below (use int values below 15)\n",
    "number_topics = 3\n",
    "number_words = 10\n",
    "\n",
    "# Create the LDA model\n",
    "lda_model = LDA(n_components=number_topics, verbose=1)"
   ]
  },
  {
   "cell_type": "code",
   "execution_count": 49,
   "id": "e8ad64bb-5dee-482d-b525-4ffb29fd9c98",
   "metadata": {},
   "outputs": [
    {
     "name": "stdout",
     "output_type": "stream",
     "text": [
      "iteration: 1 of max_iter: 10\n",
      "iteration: 2 of max_iter: 10\n",
      "iteration: 3 of max_iter: 10\n",
      "iteration: 4 of max_iter: 10\n",
      "iteration: 5 of max_iter: 10\n",
      "iteration: 6 of max_iter: 10\n",
      "iteration: 7 of max_iter: 10\n",
      "iteration: 8 of max_iter: 10\n",
      "iteration: 9 of max_iter: 10\n",
      "iteration: 10 of max_iter: 10\n"
     ]
    },
    {
     "data": {
      "text/plain": [
       "LatentDirichletAllocation(n_components=3, verbose=1)"
      ]
     },
     "execution_count": 49,
     "metadata": {},
     "output_type": "execute_result"
    }
   ],
   "source": [
    "lda_model.fit(X_train_cv)"
   ]
  },
  {
   "cell_type": "code",
   "execution_count": 50,
   "id": "c5bff3d3-7c06-4ef1-979d-9fdf67136664",
   "metadata": {},
   "outputs": [
    {
     "name": "stdout",
     "output_type": "stream",
     "text": [
      "Topics found via LDA:\n",
      "\n",
      "Topic #0:\n",
      "cream good place like cake flavor time chocolate donut sweet\n",
      "\n",
      "Topic #1:\n",
      "movie film like good character time story scene watch acting\n",
      "\n",
      "Topic #2:\n",
      "book story read character like time love good author series\n"
     ]
    },
    {
     "name": "stderr",
     "output_type": "stream",
     "text": [
      "/home/ai/anaconda3/envs/textmin/lib/python3.7/site-packages/sklearn/utils/deprecation.py:87: FutureWarning: Function get_feature_names is deprecated; get_feature_names is deprecated in 1.0 and will be removed in 1.2. Please use get_feature_names_out instead.\n",
      "  warnings.warn(msg, category=FutureWarning)\n"
     ]
    }
   ],
   "source": [
    "print(\"Topics found via LDA:\")\n",
    "print_topics(lda_model, count_vectorizer, number_words)"
   ]
  },
  {
   "cell_type": "markdown",
   "id": "e2244de0-9030-4c29-911d-44d29765c866",
   "metadata": {},
   "source": [
    "We believe these topics fit well to our labels. So we can test it.\n",
    "\n",
    "Topic 0 corresponds to restaurant\n",
    "\n",
    "Topic 1 corresponds to movie\n",
    "\n",
    "Topic 2 corresponds to book"
   ]
  },
  {
   "cell_type": "markdown",
   "id": "56609a41-948c-41ab-9900-3060edca0fd9",
   "metadata": {},
   "source": [
    "#### Now we can test our LDA model."
   ]
  },
  {
   "cell_type": "code",
   "execution_count": 51,
   "id": "30513428-9d4f-4792-a878-4bf4901f52bb",
   "metadata": {},
   "outputs": [
    {
     "data": {
      "text/plain": [
       "book          1500\n",
       "restaurant    1500\n",
       "movie         1500\n",
       "Name: topic, dtype: int64"
      ]
     },
     "execution_count": 51,
     "metadata": {},
     "output_type": "execute_result"
    }
   ],
   "source": [
    "df.topic.value_counts()"
   ]
  },
  {
   "cell_type": "code",
   "execution_count": 52,
   "id": "e72748ce-31f8-4c87-ada0-066d63e737e0",
   "metadata": {},
   "outputs": [],
   "source": [
    "def get_topic_from_array(array):\n",
    "    i = 0\n",
    "    for x in array:\n",
    "        if x == max(array):\n",
    "            break\n",
    "        i = i+1\n",
    "    \n",
    "    if i == 0:\n",
    "        return \"restaurant\"\n",
    "    if i == 1:\n",
    "        return \"movie\"\n",
    "    if i == 2:\n",
    "        return \"book\"\n",
    "    else:\n",
    "        print(\"error\")"
   ]
  },
  {
   "cell_type": "code",
   "execution_count": 53,
   "id": "f1b3cca2-b1f2-4ad5-9f3b-addf61993b4d",
   "metadata": {},
   "outputs": [],
   "source": [
    "X_test_cv = count_vectorizer.transform(X_test_str)"
   ]
  },
  {
   "cell_type": "code",
   "execution_count": 54,
   "id": "a06d6116-5ea4-4498-ab75-bb8dbdf76838",
   "metadata": {},
   "outputs": [],
   "source": [
    "array = lda_model.transform(X_test_cv)"
   ]
  },
  {
   "cell_type": "code",
   "execution_count": 55,
   "id": "4a80f794-ca52-489e-8d43-0c77b4b74f12",
   "metadata": {},
   "outputs": [],
   "source": [
    "y_pred = [get_topic_from_array(x) for x in array] "
   ]
  },
  {
   "cell_type": "code",
   "execution_count": 56,
   "id": "043c3b90-d882-4011-b308-81a759e88c80",
   "metadata": {},
   "outputs": [],
   "source": [
    "from sklearn.metrics import classification_report"
   ]
  },
  {
   "cell_type": "code",
   "execution_count": 57,
   "id": "ec58aea3-b4d4-4995-9ed0-3d5bd13555d5",
   "metadata": {},
   "outputs": [],
   "source": [
    "report_lda_sk = classification_report(y_test_str, y_pred)"
   ]
  },
  {
   "cell_type": "code",
   "execution_count": 58,
   "id": "a4c3bd1e-6520-4f18-b6eb-3b3fd91ed534",
   "metadata": {},
   "outputs": [
    {
     "name": "stdout",
     "output_type": "stream",
     "text": [
      "              precision    recall  f1-score   support\n",
      "\n",
      "        book       0.98      0.94      0.96       156\n",
      "       movie       0.95      0.98      0.96       162\n",
      "  restaurant       0.99      1.00      1.00       132\n",
      "\n",
      "    accuracy                           0.97       450\n",
      "   macro avg       0.97      0.97      0.97       450\n",
      "weighted avg       0.97      0.97      0.97       450\n",
      "\n"
     ]
    }
   ],
   "source": [
    "print(report_lda_sk)"
   ]
  },
  {
   "cell_type": "markdown",
   "id": "643687c3-8582-4218-9bed-c7767f49fe3e",
   "metadata": {},
   "source": [
    "We see that LDA performs pretty well on the test dataset. We will now try the assigned dataset."
   ]
  },
  {
   "cell_type": "code",
   "execution_count": 59,
   "id": "6106557e-0ce1-4927-a690-1cdf628bb6f2",
   "metadata": {},
   "outputs": [
    {
     "data": {
      "text/html": [
       "<div>\n",
       "<style scoped>\n",
       "    .dataframe tbody tr th:only-of-type {\n",
       "        vertical-align: middle;\n",
       "    }\n",
       "\n",
       "    .dataframe tbody tr th {\n",
       "        vertical-align: top;\n",
       "    }\n",
       "\n",
       "    .dataframe thead th {\n",
       "        text-align: right;\n",
       "    }\n",
       "</style>\n",
       "<table border=\"1\" class=\"dataframe\">\n",
       "  <thead>\n",
       "    <tr style=\"text-align: right;\">\n",
       "      <th></th>\n",
       "      <th>sentence id</th>\n",
       "      <th>text</th>\n",
       "      <th>sentiment</th>\n",
       "      <th>topic</th>\n",
       "      <th>processed</th>\n",
       "      <th>lemmatized</th>\n",
       "      <th>stemmized</th>\n",
       "      <th>stem_str</th>\n",
       "    </tr>\n",
       "  </thead>\n",
       "  <tbody>\n",
       "    <tr>\n",
       "      <th>0</th>\n",
       "      <td>0</td>\n",
       "      <td>It took eight years for Warner Brothers to rec...</td>\n",
       "      <td>negative</td>\n",
       "      <td>movie</td>\n",
       "      <td>took year warner brother recover disaster movie</td>\n",
       "      <td>[took, year, warner, brother, recover, disaste...</td>\n",
       "      <td>[took, year, warner, brother, recov, disast, m...</td>\n",
       "      <td>took year warner brother recov disast movi</td>\n",
       "    </tr>\n",
       "    <tr>\n",
       "      <th>1</th>\n",
       "      <td>1</td>\n",
       "      <td>All the New York University students love this...</td>\n",
       "      <td>positive</td>\n",
       "      <td>restaurant</td>\n",
       "      <td>york university student love diner soho make y...</td>\n",
       "      <td>[york, university, student, love, diner, soho,...</td>\n",
       "      <td>[york, univers, student, love, diner, soho, ma...</td>\n",
       "      <td>york univers student love diner soho make youn...</td>\n",
       "    </tr>\n",
       "    <tr>\n",
       "      <th>2</th>\n",
       "      <td>2</td>\n",
       "      <td>This Italian place is really trendy but they h...</td>\n",
       "      <td>negative</td>\n",
       "      <td>restaurant</td>\n",
       "      <td>italian place trendy forgotten important resta...</td>\n",
       "      <td>[italian, place, trendy, forgotten, important,...</td>\n",
       "      <td>[italian, place, trendi, forgotten, import, re...</td>\n",
       "      <td>italian place trendi forgotten import restaur ...</td>\n",
       "    </tr>\n",
       "    <tr>\n",
       "      <th>3</th>\n",
       "      <td>3</td>\n",
       "      <td>In conclusion, my review of this book would be...</td>\n",
       "      <td>positive</td>\n",
       "      <td>book</td>\n",
       "      <td>conclusion review book like jane austen unders...</td>\n",
       "      <td>[conclusion, review, book, like, jane, austen,...</td>\n",
       "      <td>[conclus, review, book, like, jane, austen, un...</td>\n",
       "      <td>conclus review book like jane austen understan...</td>\n",
       "    </tr>\n",
       "    <tr>\n",
       "      <th>4</th>\n",
       "      <td>4</td>\n",
       "      <td>The story of this movie is focused on Carl Bra...</td>\n",
       "      <td>neutral</td>\n",
       "      <td>movie</td>\n",
       "      <td>story movie focused carl brashear played cuba ...</td>\n",
       "      <td>[story, movie, focused, carl, brashear, played...</td>\n",
       "      <td>[stori, movi, focus, carl, brashear, play, cub...</td>\n",
       "      <td>stori movi focus carl brashear play cuba good ...</td>\n",
       "    </tr>\n",
       "    <tr>\n",
       "      <th>5</th>\n",
       "      <td>5</td>\n",
       "      <td>Chris O'Donnell stated that while filming for ...</td>\n",
       "      <td>neutral</td>\n",
       "      <td>movie</td>\n",
       "      <td>chris donnell stated filming movie felt like c...</td>\n",
       "      <td>[chris, donnell, stated, filming, movie, felt,...</td>\n",
       "      <td>[chris, donnel, state, film, movi, felt, like,...</td>\n",
       "      <td>chris donnel state film movi felt like commerci</td>\n",
       "    </tr>\n",
       "    <tr>\n",
       "      <th>6</th>\n",
       "      <td>6</td>\n",
       "      <td>My husband and I moved to Amsterdam 6 years ag...</td>\n",
       "      <td>positive</td>\n",
       "      <td>restaurant</td>\n",
       "      <td>husband moved amsterdam year long lived blauwb...</td>\n",
       "      <td>[husband, moved, amsterdam, year, long, lived,...</td>\n",
       "      <td>[husband, move, amsterdam, year, long, live, b...</td>\n",
       "      <td>husband move amsterdam year long live blauwbru...</td>\n",
       "    </tr>\n",
       "    <tr>\n",
       "      <th>7</th>\n",
       "      <td>7</td>\n",
       "      <td>Dame Maggie Smith performed her role excellent...</td>\n",
       "      <td>positive</td>\n",
       "      <td>movie</td>\n",
       "      <td>dame maggie smith performed role excellently m...</td>\n",
       "      <td>[dame, maggie, smith, performed, role, excelle...</td>\n",
       "      <td>[dame, maggi, smith, perform, role, excel, movi]</td>\n",
       "      <td>dame maggi smith perform role excel movi</td>\n",
       "    </tr>\n",
       "    <tr>\n",
       "      <th>8</th>\n",
       "      <td>8</td>\n",
       "      <td>The new movie by Mr. Kruno was shot in New Yor...</td>\n",
       "      <td>neutral</td>\n",
       "      <td>movie</td>\n",
       "      <td>movie kruno shot york story take place angeles</td>\n",
       "      <td>[movie, kruno, shot, york, story, take, place,...</td>\n",
       "      <td>[movi, kruno, shot, york, stori, take, place, ...</td>\n",
       "      <td>movi kruno shot york stori take place angel</td>\n",
       "    </tr>\n",
       "    <tr>\n",
       "      <th>9</th>\n",
       "      <td>9</td>\n",
       "      <td>I always have loved English novels, but I just...</td>\n",
       "      <td>negative</td>\n",
       "      <td>book</td>\n",
       "      <td>loved english novel couldn</td>\n",
       "      <td>[loved, english, novel, couldn]</td>\n",
       "      <td>[love, english, novel, couldn]</td>\n",
       "      <td>love english novel couldn</td>\n",
       "    </tr>\n",
       "  </tbody>\n",
       "</table>\n",
       "</div>"
      ],
      "text/plain": [
       "   sentence id                                               text sentiment  \\\n",
       "0            0  It took eight years for Warner Brothers to rec...  negative   \n",
       "1            1  All the New York University students love this...  positive   \n",
       "2            2  This Italian place is really trendy but they h...  negative   \n",
       "3            3  In conclusion, my review of this book would be...  positive   \n",
       "4            4  The story of this movie is focused on Carl Bra...   neutral   \n",
       "5            5  Chris O'Donnell stated that while filming for ...   neutral   \n",
       "6            6  My husband and I moved to Amsterdam 6 years ag...  positive   \n",
       "7            7  Dame Maggie Smith performed her role excellent...  positive   \n",
       "8            8  The new movie by Mr. Kruno was shot in New Yor...   neutral   \n",
       "9            9  I always have loved English novels, but I just...  negative   \n",
       "\n",
       "        topic                                          processed  \\\n",
       "0       movie    took year warner brother recover disaster movie   \n",
       "1  restaurant  york university student love diner soho make y...   \n",
       "2  restaurant  italian place trendy forgotten important resta...   \n",
       "3        book  conclusion review book like jane austen unders...   \n",
       "4       movie  story movie focused carl brashear played cuba ...   \n",
       "5       movie  chris donnell stated filming movie felt like c...   \n",
       "6  restaurant  husband moved amsterdam year long lived blauwb...   \n",
       "7       movie  dame maggie smith performed role excellently m...   \n",
       "8       movie     movie kruno shot york story take place angeles   \n",
       "9        book                         loved english novel couldn   \n",
       "\n",
       "                                          lemmatized  \\\n",
       "0  [took, year, warner, brother, recover, disaste...   \n",
       "1  [york, university, student, love, diner, soho,...   \n",
       "2  [italian, place, trendy, forgotten, important,...   \n",
       "3  [conclusion, review, book, like, jane, austen,...   \n",
       "4  [story, movie, focused, carl, brashear, played...   \n",
       "5  [chris, donnell, stated, filming, movie, felt,...   \n",
       "6  [husband, moved, amsterdam, year, long, lived,...   \n",
       "7  [dame, maggie, smith, performed, role, excelle...   \n",
       "8  [movie, kruno, shot, york, story, take, place,...   \n",
       "9                    [loved, english, novel, couldn]   \n",
       "\n",
       "                                           stemmized  \\\n",
       "0  [took, year, warner, brother, recov, disast, m...   \n",
       "1  [york, univers, student, love, diner, soho, ma...   \n",
       "2  [italian, place, trendi, forgotten, import, re...   \n",
       "3  [conclus, review, book, like, jane, austen, un...   \n",
       "4  [stori, movi, focus, carl, brashear, play, cub...   \n",
       "5  [chris, donnel, state, film, movi, felt, like,...   \n",
       "6  [husband, move, amsterdam, year, long, live, b...   \n",
       "7   [dame, maggi, smith, perform, role, excel, movi]   \n",
       "8  [movi, kruno, shot, york, stori, take, place, ...   \n",
       "9                     [love, english, novel, couldn]   \n",
       "\n",
       "                                            stem_str  \n",
       "0         took year warner brother recov disast movi  \n",
       "1  york univers student love diner soho make youn...  \n",
       "2  italian place trendi forgotten import restaur ...  \n",
       "3  conclus review book like jane austen understan...  \n",
       "4  stori movi focus carl brashear play cuba good ...  \n",
       "5    chris donnel state film movi felt like commerci  \n",
       "6  husband move amsterdam year long live blauwbru...  \n",
       "7           dame maggi smith perform role excel movi  \n",
       "8        movi kruno shot york stori take place angel  \n",
       "9                          love english novel couldn  "
      ]
     },
     "execution_count": 59,
     "metadata": {},
     "output_type": "execute_result"
    }
   ],
   "source": [
    "assigned_df"
   ]
  },
  {
   "cell_type": "code",
   "execution_count": 60,
   "id": "c1bd8c5f-a54d-4b09-b518-5fa62596bcd3",
   "metadata": {},
   "outputs": [],
   "source": [
    "assigned_pred = lda_model.transform(count_vectorizer.transform(assigned_df.processed))"
   ]
  },
  {
   "cell_type": "code",
   "execution_count": 61,
   "id": "1d0d3a4b-7d40-400a-8b25-713d3ccd3306",
   "metadata": {},
   "outputs": [],
   "source": [
    "y_assigned_pred = [get_topic_from_array(x) for x in assigned_pred] "
   ]
  },
  {
   "cell_type": "code",
   "execution_count": 62,
   "id": "2bf6409a-a78d-46dc-89be-4bd21b7e4dee",
   "metadata": {},
   "outputs": [],
   "source": [
    "report_lda_ass = classification_report(y_assigned_pred, assigned_df.topic)"
   ]
  },
  {
   "cell_type": "code",
   "execution_count": 63,
   "id": "22c17d28-b26f-4651-aacf-3a1a6dc897be",
   "metadata": {},
   "outputs": [
    {
     "name": "stdout",
     "output_type": "stream",
     "text": [
      "              precision    recall  f1-score   support\n",
      "\n",
      "        book       1.00      1.00      1.00         2\n",
      "       movie       1.00      0.83      0.91         6\n",
      "  restaurant       0.67      1.00      0.80         2\n",
      "\n",
      "    accuracy                           0.90        10\n",
      "   macro avg       0.89      0.94      0.90        10\n",
      "weighted avg       0.93      0.90      0.91        10\n",
      "\n"
     ]
    }
   ],
   "source": [
    "print(report_lda_ass)"
   ]
  },
  {
   "cell_type": "code",
   "execution_count": 64,
   "id": "398c9326-4b87-4503-8dfd-0e3bfe7265b8",
   "metadata": {},
   "outputs": [
    {
     "name": "stdout",
     "output_type": "stream",
     "text": [
      "pred \t label\n",
      "movie \t\t movie\n",
      "movie \t\t restaurant\n",
      "restaurant \t\t restaurant\n",
      "book \t\t book\n",
      "movie \t\t movie\n",
      "movie \t\t movie\n",
      "restaurant \t\t restaurant\n",
      "movie \t\t movie\n",
      "movie \t\t movie\n",
      "book \t\t book\n"
     ]
    }
   ],
   "source": [
    "print(\"pred \\t\", \"label\") \n",
    "for i in range(len(y_assigned_pred)):\n",
    "    \n",
    "    print(y_assigned_pred[i], \"\\t\\t\", assigned_df.topic[i])"
   ]
  },
  {
   "cell_type": "markdown",
   "id": "3ef4368a-87f9-49e3-b618-dc8097ec27ff",
   "metadata": {},
   "source": [
    "So this model misidentifies just one restaurant as a movie."
   ]
  },
  {
   "cell_type": "code",
   "execution_count": 65,
   "id": "05479c6c-d517-4a8c-97c8-02f3c55ea997",
   "metadata": {},
   "outputs": [
    {
     "name": "stdout",
     "output_type": "stream",
     "text": [
      "All the New York University students love this diner in Soho so it makes for a fun young atmosphere.\n"
     ]
    }
   ],
   "source": [
    "print(assigned_df.text[1])"
   ]
  },
  {
   "cell_type": "code",
   "execution_count": 72,
   "id": "ad6e32e5-31b4-4d63-af61-f3c4765c18a6",
   "metadata": {},
   "outputs": [
    {
     "data": {
      "text/plain": [
       "'diner'"
      ]
     },
     "execution_count": 72,
     "metadata": {},
     "output_type": "execute_result"
    }
   ],
   "source": [
    "lemmatize(\"diner\")"
   ]
  },
  {
   "cell_type": "code",
   "execution_count": 85,
   "id": "2363ab97-7c28-4870-aa4a-fd08e8419631",
   "metadata": {},
   "outputs": [],
   "source": [
    "test = lda_model.transform(count_vectorizer.transform([\"diner\"]))"
   ]
  },
  {
   "cell_type": "code",
   "execution_count": 86,
   "id": "195fb8d7-0265-4e2a-b35c-fc8adfdee67f",
   "metadata": {},
   "outputs": [
    {
     "data": {
      "text/plain": [
       "'movie'"
      ]
     },
     "execution_count": 86,
     "metadata": {},
     "output_type": "execute_result"
    }
   ],
   "source": [
    "get_topic_from_array(test[0])"
   ]
  },
  {
   "cell_type": "markdown",
   "id": "f8ee4e19-f00c-4f79-b066-27f03471c20a",
   "metadata": {},
   "source": [
    "We can see that diner is not related to restaurant according to the model. This is because of the dataset as it doesn't contain enough references to diner."
   ]
  },
  {
   "cell_type": "markdown",
   "id": "6856e623-146b-4fde-912d-08fa41763777",
   "metadata": {
    "tags": []
   },
   "source": [
    "# GENSIM"
   ]
  },
  {
   "cell_type": "markdown",
   "id": "74c59474-7c65-4e61-b93f-c6336ab5d4a2",
   "metadata": {},
   "source": [
    "We want to train an LDA with GENSIM then compare it with the SKLEARN's LDA."
   ]
  },
  {
   "cell_type": "code",
   "execution_count": 87,
   "id": "4c545870-a261-4278-a404-311b2839bbe6",
   "metadata": {},
   "outputs": [
    {
     "name": "stdout",
     "output_type": "stream",
     "text": [
      "0 basic\n",
      "1 book\n",
      "2 breakfast\n",
      "3 bring\n",
      "4 bulky\n",
      "5 cook\n",
      "6 cream\n",
      "7 doubly\n",
      "8 example\n",
      "9 explicit\n",
      "10 great\n"
     ]
    }
   ],
   "source": [
    "dictionary = gensim.corpora.Dictionary(X_train_lem)\n",
    "count = 0\n",
    "for k, v in dictionary.iteritems():\n",
    "    print(k, v)\n",
    "    count += 1\n",
    "    if count > 10:\n",
    "        break"
   ]
  },
  {
   "cell_type": "code",
   "execution_count": 88,
   "id": "d464ebd4-a74c-48a0-822d-a1a5d7ff0c77",
   "metadata": {},
   "outputs": [],
   "source": [
    "dictionary.filter_extremes(no_below=15, no_above=0.5)"
   ]
  },
  {
   "cell_type": "code",
   "execution_count": 89,
   "id": "a771452b-f980-4443-a64e-a3418240eb30",
   "metadata": {},
   "outputs": [],
   "source": [
    "bow_corpus = [dictionary.doc2bow(doc) for doc in X_train_lem]"
   ]
  },
  {
   "cell_type": "code",
   "execution_count": 90,
   "id": "4517ea9d-1b08-43e2-84ce-2f53aa58758c",
   "metadata": {
    "tags": []
   },
   "outputs": [
    {
     "name": "stdout",
     "output_type": "stream",
     "text": [
      "Word 20 (\"standard\") appears 1 time.\n",
      "Word 41 (\"like\") appears 1 time.\n",
      "Word 56 (\"week\") appears 1 time.\n",
      "Word 175 (\"time\") appears 1 time.\n",
      "Word 201 (\"different\") appears 1 time.\n",
      "Word 258 (\"wrote\") appears 1 time.\n",
      "Word 263 (\"character\") appears 1 time.\n",
      "Word 290 (\"writing\") appears 1 time.\n",
      "Word 311 (\"look\") appears 1 time.\n",
      "Word 315 (\"people\") appears 1 time.\n",
      "Word 398 (\"getting\") appears 1 time.\n",
      "Word 448 (\"episode\") appears 1 time.\n",
      "Word 466 (\"series\") appears 1 time.\n",
      "Word 469 (\"started\") appears 1 time.\n",
      "Word 489 (\"boring\") appears 1 time.\n",
      "Word 507 (\"save\") appears 1 time.\n",
      "Word 538 (\"actor\") appears 1 time.\n",
      "Word 548 (\"terrible\") appears 2 time.\n",
      "Word 596 (\"worse\") appears 1 time.\n",
      "Word 870 (\"disaster\") appears 1 time.\n",
      "Word 871 (\"terrific\") appears 1 time.\n"
     ]
    }
   ],
   "source": [
    "#example sentence\n",
    "bow_doc_43 = bow_corpus[43]\n",
    "for i in range(len(bow_doc_43)):\n",
    "    print(\"Word {} (\\\"{}\\\") appears {} time.\".format(bow_doc_43[i][0], \n",
    "                                               dictionary[bow_doc_43[i][0]], \n",
    "bow_doc_43[i][1]))"
   ]
  },
  {
   "cell_type": "code",
   "execution_count": 91,
   "id": "05b75345-33b7-4452-90e5-7691de99168e",
   "metadata": {},
   "outputs": [],
   "source": [
    "from gensim import corpora, models\n",
    "tfidf = models.TfidfModel(bow_corpus)\n",
    "tfidf_corpus = tfidf[bow_corpus]"
   ]
  },
  {
   "cell_type": "markdown",
   "id": "e5374446-0c44-4113-8916-2bcb46578fcf",
   "metadata": {},
   "source": [
    "Train Gensim LDA"
   ]
  },
  {
   "cell_type": "code",
   "execution_count": 92,
   "id": "a92344a4-064f-4561-a4d3-d33234b44406",
   "metadata": {},
   "outputs": [],
   "source": [
    "lda_model_gensim = gensim.models.LdaMulticore(tfidf_corpus, num_topics=3, id2word=dictionary, passes=2, workers=2)"
   ]
  },
  {
   "cell_type": "code",
   "execution_count": 93,
   "id": "a8998320-80b3-4fdb-9b00-0acd63b5c0ea",
   "metadata": {},
   "outputs": [
    {
     "name": "stdout",
     "output_type": "stream",
     "text": [
      "Topic: 0 \n",
      "Words: 0.007*\"movie\" + 0.006*\"book\" + 0.005*\"cream\" + 0.005*\"story\" + 0.004*\"read\" + 0.004*\"good\" + 0.004*\"line\" + 0.004*\"time\" + 0.004*\"like\" + 0.003*\"place\"\n",
      "Topic: 1 \n",
      "Words: 0.008*\"book\" + 0.008*\"movie\" + 0.008*\"film\" + 0.005*\"story\" + 0.005*\"read\" + 0.004*\"like\" + 0.004*\"character\" + 0.004*\"good\" + 0.003*\"time\" + 0.003*\"great\"\n",
      "Topic: 2 \n",
      "Words: 0.006*\"cream\" + 0.006*\"book\" + 0.005*\"movie\" + 0.005*\"donut\" + 0.005*\"good\" + 0.005*\"story\" + 0.004*\"cake\" + 0.004*\"cupcake\" + 0.004*\"flavor\" + 0.004*\"love\"\n"
     ]
    }
   ],
   "source": [
    "for idx, topic in lda_model_gensim.print_topics(-1):\n",
    "    print('Topic: {} \\nWords: {}'.format(idx, topic))"
   ]
  },
  {
   "cell_type": "markdown",
   "id": "b24c5c4c-52eb-4a8d-a30b-1731a355e83c",
   "metadata": {},
   "source": [
    "We can see that topics do not correspond to our labels and have lots of overlap. Thus we can say that sklearn performs better with our training data. We won't test this."
   ]
  },
  {
   "cell_type": "markdown",
   "id": "01b5015e-6d47-4be5-ba94-950a82fd92a6",
   "metadata": {},
   "source": [
    "# TFIDF"
   ]
  },
  {
   "cell_type": "markdown",
   "id": "609ba519-dbd4-4288-8b76-5c3a61d11601",
   "metadata": {},
   "source": [
    "Now we want to try TF-IDF. As we have labeled data, it may perform better than LDA. We choose Naive Bayes and LinearSVC as our algorithms."
   ]
  },
  {
   "cell_type": "code",
   "execution_count": 94,
   "id": "78f7a582-405d-43ad-afc2-29009e8fd9dc",
   "metadata": {},
   "outputs": [],
   "source": [
    "from sklearn.naive_bayes import MultinomialNB\n",
    "\n",
    "model = MultinomialNB()"
   ]
  },
  {
   "cell_type": "markdown",
   "id": "ef96f816-09d5-46ec-97d4-b99bc596bc46",
   "metadata": {},
   "source": [
    "We have tfidf_vectorizer defined above in SKLEARN."
   ]
  },
  {
   "cell_type": "code",
   "execution_count": 95,
   "id": "cb231722-e480-4692-966c-339b5bb37489",
   "metadata": {},
   "outputs": [],
   "source": [
    "from sklearn.pipeline import Pipeline"
   ]
  },
  {
   "cell_type": "code",
   "execution_count": 96,
   "id": "bbb32d3c-ab3b-441f-94a0-ce8590164571",
   "metadata": {},
   "outputs": [],
   "source": [
    "clfidf = Pipeline( [\n",
    "    ('vectorizer', tfidf_vectorizer),\n",
    "    ('nb', model)\n",
    "])"
   ]
  },
  {
   "cell_type": "markdown",
   "id": "c03b78c9-af68-45f4-8329-202a244e3aaf",
   "metadata": {},
   "source": [
    "Stemmized version performs better with TFIDF. So we are using X_train_stem."
   ]
  },
  {
   "cell_type": "code",
   "execution_count": 97,
   "id": "e67a735b-b406-444d-9886-45cc52c10e7d",
   "metadata": {},
   "outputs": [
    {
     "data": {
      "text/plain": [
       "Pipeline(steps=[('vectorizer',\n",
       "                 TfidfVectorizer(max_df=0.5,\n",
       "                                 tokenizer=<function word_tokenize at 0x7f1ca0a1dd40>)),\n",
       "                ('nb', MultinomialNB())])"
      ]
     },
     "execution_count": 97,
     "metadata": {},
     "output_type": "execute_result"
    }
   ],
   "source": [
    "clfidf.fit(X_train_stem, y_train_stem)"
   ]
  },
  {
   "cell_type": "code",
   "execution_count": 98,
   "id": "f5967abe-7c0e-40cf-adfc-b7de06b8b2e8",
   "metadata": {},
   "outputs": [
    {
     "data": {
      "text/plain": [
       "326     kept read faster faster kept edg seat come sho...\n",
       "1800    wasn abl justifi get baguett bread look delici...\n",
       "946     need good proof reader error area write langua...\n",
       "1898    awesom place music play staff friend donut soo...\n",
       "774     suggest author suggest class children book per...\n",
       "                              ...                        \n",
       "2878    crack good rich plan share slice compost cooki...\n",
       "2725    person cupcak craze thought cupcak special wai...\n",
       "2949    okay special tart donut good overal think plac...\n",
       "4363    movi good look direct best movi director time ...\n",
       "3504    movi bore talk action set gloomi gray gray sho...\n",
       "Name: stem_str, Length: 450, dtype: object"
      ]
     },
     "execution_count": 98,
     "metadata": {},
     "output_type": "execute_result"
    }
   ],
   "source": [
    "X_test_stem"
   ]
  },
  {
   "cell_type": "code",
   "execution_count": 99,
   "id": "4e24b283-e1a9-4855-a3c9-caaf279aa9da",
   "metadata": {},
   "outputs": [],
   "source": [
    "y_pred = clfidf.predict(X_test_stem)"
   ]
  },
  {
   "cell_type": "code",
   "execution_count": 100,
   "id": "0d5d7ab5-5672-49f1-8ce0-02cb41e76534",
   "metadata": {},
   "outputs": [],
   "source": [
    "report_tfidf_nb = classification_report(y_test_stem, y_pred)"
   ]
  },
  {
   "cell_type": "code",
   "execution_count": 101,
   "id": "49020fee-0dce-4f80-89ac-066a92436e25",
   "metadata": {},
   "outputs": [
    {
     "name": "stdout",
     "output_type": "stream",
     "text": [
      "              precision    recall  f1-score   support\n",
      "\n",
      "        book       0.99      0.96      0.98       146\n",
      "       movie       0.96      0.99      0.98       165\n",
      "  restaurant       1.00      1.00      1.00       139\n",
      "\n",
      "    accuracy                           0.98       450\n",
      "   macro avg       0.99      0.98      0.98       450\n",
      "weighted avg       0.98      0.98      0.98       450\n",
      "\n"
     ]
    }
   ],
   "source": [
    "print(report_tfidf_nb)"
   ]
  },
  {
   "cell_type": "code",
   "execution_count": 102,
   "id": "40ea41f0-b817-404c-ac7f-0123f9680f2c",
   "metadata": {},
   "outputs": [
    {
     "name": "stdout",
     "output_type": "stream",
     "text": [
      "              precision    recall  f1-score   support\n",
      "\n",
      "        book       0.98      0.94      0.96       156\n",
      "       movie       0.95      0.98      0.96       162\n",
      "  restaurant       0.99      1.00      1.00       132\n",
      "\n",
      "    accuracy                           0.97       450\n",
      "   macro avg       0.97      0.97      0.97       450\n",
      "weighted avg       0.97      0.97      0.97       450\n",
      "\n"
     ]
    }
   ],
   "source": [
    "print(report_lda_sk)"
   ]
  },
  {
   "cell_type": "markdown",
   "id": "58ada1e6-3622-446b-96f7-bce6babfc02a",
   "metadata": {},
   "source": [
    "So we can see that TF-IDF performed better than LDA, looking at the f1-scores. We believe this is due to supervised learning. "
   ]
  },
  {
   "cell_type": "markdown",
   "id": "f525179d-6c66-4dd3-9b54-47ee85a671cb",
   "metadata": {},
   "source": [
    "Now let's try the same with SVM."
   ]
  },
  {
   "cell_type": "code",
   "execution_count": 103,
   "id": "9886a9fb-7a9d-4856-9af2-69e8abbda78f",
   "metadata": {},
   "outputs": [],
   "source": [
    "from sklearn.svm import LinearSVC"
   ]
  },
  {
   "cell_type": "code",
   "execution_count": 104,
   "id": "7dea6c7b-f60e-4424-a41b-ce1ef61a7f39",
   "metadata": {},
   "outputs": [],
   "source": [
    "clfidf_svc = Pipeline( [\n",
    "    ('vectorizer', tfidf_vectorizer),\n",
    "    ('SVM', LinearSVC())\n",
    "])"
   ]
  },
  {
   "cell_type": "code",
   "execution_count": 105,
   "id": "3673853e-2404-48fd-8bce-64df5fda930e",
   "metadata": {},
   "outputs": [
    {
     "data": {
      "text/plain": [
       "Pipeline(steps=[('vectorizer',\n",
       "                 TfidfVectorizer(max_df=0.5,\n",
       "                                 tokenizer=<function word_tokenize at 0x7f1ca0a1dd40>)),\n",
       "                ('SVM', LinearSVC())])"
      ]
     },
     "execution_count": 105,
     "metadata": {},
     "output_type": "execute_result"
    }
   ],
   "source": [
    "clfidf_svc.fit(X_train_stem, y_train_stem)"
   ]
  },
  {
   "cell_type": "code",
   "execution_count": 106,
   "id": "3991acaa-fba4-40ec-851e-61cb1c060ea8",
   "metadata": {},
   "outputs": [],
   "source": [
    "svc_pred = clfidf_svc.predict(X_test_stem)"
   ]
  },
  {
   "cell_type": "code",
   "execution_count": 107,
   "id": "83075a6a-875f-4be1-beba-e9a8c664b8fb",
   "metadata": {},
   "outputs": [],
   "source": [
    "report_svm = classification_report(y_test_stem, y_pred)"
   ]
  },
  {
   "cell_type": "code",
   "execution_count": 108,
   "id": "67b0b507-6bf1-43af-bc6f-230f08523ddf",
   "metadata": {},
   "outputs": [
    {
     "name": "stdout",
     "output_type": "stream",
     "text": [
      "              precision    recall  f1-score   support\n",
      "\n",
      "        book       0.99      0.96      0.98       146\n",
      "       movie       0.96      0.99      0.98       165\n",
      "  restaurant       1.00      1.00      1.00       139\n",
      "\n",
      "    accuracy                           0.98       450\n",
      "   macro avg       0.99      0.98      0.98       450\n",
      "weighted avg       0.98      0.98      0.98       450\n",
      "\n"
     ]
    }
   ],
   "source": [
    "print(report_svm)"
   ]
  },
  {
   "cell_type": "code",
   "execution_count": 109,
   "id": "1878e905-6393-4ff3-939b-5628f9f34083",
   "metadata": {},
   "outputs": [
    {
     "name": "stdout",
     "output_type": "stream",
     "text": [
      "              precision    recall  f1-score   support\n",
      "\n",
      "        book       0.99      0.96      0.98       146\n",
      "       movie       0.96      0.99      0.98       165\n",
      "  restaurant       1.00      1.00      1.00       139\n",
      "\n",
      "    accuracy                           0.98       450\n",
      "   macro avg       0.99      0.98      0.98       450\n",
      "weighted avg       0.98      0.98      0.98       450\n",
      "\n"
     ]
    }
   ],
   "source": [
    "print(report_tfidf_nb)"
   ]
  },
  {
   "cell_type": "markdown",
   "id": "3408fd36-23e1-4492-8570-457bcc11e2f7",
   "metadata": {},
   "source": [
    "We see that the results look identical. Our dataset is relatively small and balanced, so there is not much of a difference between the two algorithms."
   ]
  },
  {
   "cell_type": "markdown",
   "id": "b5886de4-0586-4b24-8af4-431644a1b950",
   "metadata": {},
   "source": [
    "Now let's test on the assigned dataset."
   ]
  },
  {
   "cell_type": "code",
   "execution_count": 110,
   "id": "2054a603-a469-473d-8334-ba81e751b666",
   "metadata": {},
   "outputs": [
    {
     "data": {
      "text/html": [
       "<div>\n",
       "<style scoped>\n",
       "    .dataframe tbody tr th:only-of-type {\n",
       "        vertical-align: middle;\n",
       "    }\n",
       "\n",
       "    .dataframe tbody tr th {\n",
       "        vertical-align: top;\n",
       "    }\n",
       "\n",
       "    .dataframe thead th {\n",
       "        text-align: right;\n",
       "    }\n",
       "</style>\n",
       "<table border=\"1\" class=\"dataframe\">\n",
       "  <thead>\n",
       "    <tr style=\"text-align: right;\">\n",
       "      <th></th>\n",
       "      <th>sentence id</th>\n",
       "      <th>text</th>\n",
       "      <th>sentiment</th>\n",
       "      <th>topic</th>\n",
       "      <th>processed</th>\n",
       "      <th>lemmatized</th>\n",
       "      <th>stemmized</th>\n",
       "      <th>stem_str</th>\n",
       "    </tr>\n",
       "  </thead>\n",
       "  <tbody>\n",
       "    <tr>\n",
       "      <th>0</th>\n",
       "      <td>0</td>\n",
       "      <td>It took eight years for Warner Brothers to rec...</td>\n",
       "      <td>negative</td>\n",
       "      <td>movie</td>\n",
       "      <td>took year warner brother recover disaster movie</td>\n",
       "      <td>[took, year, warner, brother, recover, disaste...</td>\n",
       "      <td>[took, year, warner, brother, recov, disast, m...</td>\n",
       "      <td>took year warner brother recov disast movi</td>\n",
       "    </tr>\n",
       "    <tr>\n",
       "      <th>1</th>\n",
       "      <td>1</td>\n",
       "      <td>All the New York University students love this...</td>\n",
       "      <td>positive</td>\n",
       "      <td>restaurant</td>\n",
       "      <td>york university student love diner soho make y...</td>\n",
       "      <td>[york, university, student, love, diner, soho,...</td>\n",
       "      <td>[york, univers, student, love, diner, soho, ma...</td>\n",
       "      <td>york univers student love diner soho make youn...</td>\n",
       "    </tr>\n",
       "    <tr>\n",
       "      <th>2</th>\n",
       "      <td>2</td>\n",
       "      <td>This Italian place is really trendy but they h...</td>\n",
       "      <td>negative</td>\n",
       "      <td>restaurant</td>\n",
       "      <td>italian place trendy forgotten important resta...</td>\n",
       "      <td>[italian, place, trendy, forgotten, important,...</td>\n",
       "      <td>[italian, place, trendi, forgotten, import, re...</td>\n",
       "      <td>italian place trendi forgotten import restaur ...</td>\n",
       "    </tr>\n",
       "    <tr>\n",
       "      <th>3</th>\n",
       "      <td>3</td>\n",
       "      <td>In conclusion, my review of this book would be...</td>\n",
       "      <td>positive</td>\n",
       "      <td>book</td>\n",
       "      <td>conclusion review book like jane austen unders...</td>\n",
       "      <td>[conclusion, review, book, like, jane, austen,...</td>\n",
       "      <td>[conclus, review, book, like, jane, austen, un...</td>\n",
       "      <td>conclus review book like jane austen understan...</td>\n",
       "    </tr>\n",
       "    <tr>\n",
       "      <th>4</th>\n",
       "      <td>4</td>\n",
       "      <td>The story of this movie is focused on Carl Bra...</td>\n",
       "      <td>neutral</td>\n",
       "      <td>movie</td>\n",
       "      <td>story movie focused carl brashear played cuba ...</td>\n",
       "      <td>[story, movie, focused, carl, brashear, played...</td>\n",
       "      <td>[stori, movi, focus, carl, brashear, play, cub...</td>\n",
       "      <td>stori movi focus carl brashear play cuba good ...</td>\n",
       "    </tr>\n",
       "    <tr>\n",
       "      <th>5</th>\n",
       "      <td>5</td>\n",
       "      <td>Chris O'Donnell stated that while filming for ...</td>\n",
       "      <td>neutral</td>\n",
       "      <td>movie</td>\n",
       "      <td>chris donnell stated filming movie felt like c...</td>\n",
       "      <td>[chris, donnell, stated, filming, movie, felt,...</td>\n",
       "      <td>[chris, donnel, state, film, movi, felt, like,...</td>\n",
       "      <td>chris donnel state film movi felt like commerci</td>\n",
       "    </tr>\n",
       "    <tr>\n",
       "      <th>6</th>\n",
       "      <td>6</td>\n",
       "      <td>My husband and I moved to Amsterdam 6 years ag...</td>\n",
       "      <td>positive</td>\n",
       "      <td>restaurant</td>\n",
       "      <td>husband moved amsterdam year long lived blauwb...</td>\n",
       "      <td>[husband, moved, amsterdam, year, long, lived,...</td>\n",
       "      <td>[husband, move, amsterdam, year, long, live, b...</td>\n",
       "      <td>husband move amsterdam year long live blauwbru...</td>\n",
       "    </tr>\n",
       "    <tr>\n",
       "      <th>7</th>\n",
       "      <td>7</td>\n",
       "      <td>Dame Maggie Smith performed her role excellent...</td>\n",
       "      <td>positive</td>\n",
       "      <td>movie</td>\n",
       "      <td>dame maggie smith performed role excellently m...</td>\n",
       "      <td>[dame, maggie, smith, performed, role, excelle...</td>\n",
       "      <td>[dame, maggi, smith, perform, role, excel, movi]</td>\n",
       "      <td>dame maggi smith perform role excel movi</td>\n",
       "    </tr>\n",
       "    <tr>\n",
       "      <th>8</th>\n",
       "      <td>8</td>\n",
       "      <td>The new movie by Mr. Kruno was shot in New Yor...</td>\n",
       "      <td>neutral</td>\n",
       "      <td>movie</td>\n",
       "      <td>movie kruno shot york story take place angeles</td>\n",
       "      <td>[movie, kruno, shot, york, story, take, place,...</td>\n",
       "      <td>[movi, kruno, shot, york, stori, take, place, ...</td>\n",
       "      <td>movi kruno shot york stori take place angel</td>\n",
       "    </tr>\n",
       "    <tr>\n",
       "      <th>9</th>\n",
       "      <td>9</td>\n",
       "      <td>I always have loved English novels, but I just...</td>\n",
       "      <td>negative</td>\n",
       "      <td>book</td>\n",
       "      <td>loved english novel couldn</td>\n",
       "      <td>[loved, english, novel, couldn]</td>\n",
       "      <td>[love, english, novel, couldn]</td>\n",
       "      <td>love english novel couldn</td>\n",
       "    </tr>\n",
       "  </tbody>\n",
       "</table>\n",
       "</div>"
      ],
      "text/plain": [
       "   sentence id                                               text sentiment  \\\n",
       "0            0  It took eight years for Warner Brothers to rec...  negative   \n",
       "1            1  All the New York University students love this...  positive   \n",
       "2            2  This Italian place is really trendy but they h...  negative   \n",
       "3            3  In conclusion, my review of this book would be...  positive   \n",
       "4            4  The story of this movie is focused on Carl Bra...   neutral   \n",
       "5            5  Chris O'Donnell stated that while filming for ...   neutral   \n",
       "6            6  My husband and I moved to Amsterdam 6 years ag...  positive   \n",
       "7            7  Dame Maggie Smith performed her role excellent...  positive   \n",
       "8            8  The new movie by Mr. Kruno was shot in New Yor...   neutral   \n",
       "9            9  I always have loved English novels, but I just...  negative   \n",
       "\n",
       "        topic                                          processed  \\\n",
       "0       movie    took year warner brother recover disaster movie   \n",
       "1  restaurant  york university student love diner soho make y...   \n",
       "2  restaurant  italian place trendy forgotten important resta...   \n",
       "3        book  conclusion review book like jane austen unders...   \n",
       "4       movie  story movie focused carl brashear played cuba ...   \n",
       "5       movie  chris donnell stated filming movie felt like c...   \n",
       "6  restaurant  husband moved amsterdam year long lived blauwb...   \n",
       "7       movie  dame maggie smith performed role excellently m...   \n",
       "8       movie     movie kruno shot york story take place angeles   \n",
       "9        book                         loved english novel couldn   \n",
       "\n",
       "                                          lemmatized  \\\n",
       "0  [took, year, warner, brother, recover, disaste...   \n",
       "1  [york, university, student, love, diner, soho,...   \n",
       "2  [italian, place, trendy, forgotten, important,...   \n",
       "3  [conclusion, review, book, like, jane, austen,...   \n",
       "4  [story, movie, focused, carl, brashear, played...   \n",
       "5  [chris, donnell, stated, filming, movie, felt,...   \n",
       "6  [husband, moved, amsterdam, year, long, lived,...   \n",
       "7  [dame, maggie, smith, performed, role, excelle...   \n",
       "8  [movie, kruno, shot, york, story, take, place,...   \n",
       "9                    [loved, english, novel, couldn]   \n",
       "\n",
       "                                           stemmized  \\\n",
       "0  [took, year, warner, brother, recov, disast, m...   \n",
       "1  [york, univers, student, love, diner, soho, ma...   \n",
       "2  [italian, place, trendi, forgotten, import, re...   \n",
       "3  [conclus, review, book, like, jane, austen, un...   \n",
       "4  [stori, movi, focus, carl, brashear, play, cub...   \n",
       "5  [chris, donnel, state, film, movi, felt, like,...   \n",
       "6  [husband, move, amsterdam, year, long, live, b...   \n",
       "7   [dame, maggi, smith, perform, role, excel, movi]   \n",
       "8  [movi, kruno, shot, york, stori, take, place, ...   \n",
       "9                     [love, english, novel, couldn]   \n",
       "\n",
       "                                            stem_str  \n",
       "0         took year warner brother recov disast movi  \n",
       "1  york univers student love diner soho make youn...  \n",
       "2  italian place trendi forgotten import restaur ...  \n",
       "3  conclus review book like jane austen understan...  \n",
       "4  stori movi focus carl brashear play cuba good ...  \n",
       "5    chris donnel state film movi felt like commerci  \n",
       "6  husband move amsterdam year long live blauwbru...  \n",
       "7           dame maggi smith perform role excel movi  \n",
       "8        movi kruno shot york stori take place angel  \n",
       "9                          love english novel couldn  "
      ]
     },
     "execution_count": 110,
     "metadata": {},
     "output_type": "execute_result"
    }
   ],
   "source": [
    "assigned_df"
   ]
  },
  {
   "cell_type": "code",
   "execution_count": 114,
   "id": "cc6fc764-8273-4a43-b8db-7ecfd54dca56",
   "metadata": {},
   "outputs": [],
   "source": [
    "nb_pred = clfidf.predict(assigned_df.stem_str)"
   ]
  },
  {
   "cell_type": "code",
   "execution_count": 112,
   "id": "d3e748f9-7e90-4585-bfaf-3e8021eb5c15",
   "metadata": {},
   "outputs": [],
   "source": [
    "svc_pred = clfidf_svc.predict(assigned_df.processed)"
   ]
  },
  {
   "cell_type": "code",
   "execution_count": 113,
   "id": "57301de4-4013-4490-b66e-8061824db4a0",
   "metadata": {},
   "outputs": [],
   "source": [
    "report_nb = classification_report(nb_pred, assigned_df.topic)\n",
    "report_svc = classification_report(svc_pred, assigned_df.topic)"
   ]
  },
  {
   "cell_type": "code",
   "execution_count": 117,
   "id": "d8ccbcf4-91fb-44b0-8d41-f74462ab15a2",
   "metadata": {},
   "outputs": [
    {
     "name": "stdout",
     "output_type": "stream",
     "text": [
      "              precision    recall  f1-score   support\n",
      "\n",
      "        book       1.00      1.00      1.00         2\n",
      "       movie       1.00      0.83      0.91         6\n",
      "  restaurant       0.67      1.00      0.80         2\n",
      "\n",
      "    accuracy                           0.90        10\n",
      "   macro avg       0.89      0.94      0.90        10\n",
      "weighted avg       0.93      0.90      0.91        10\n",
      "\n"
     ]
    }
   ],
   "source": [
    "print(report_nb)"
   ]
  },
  {
   "cell_type": "code",
   "execution_count": 118,
   "id": "69dbca83-c87b-4dfd-8f6c-8a9272f105a0",
   "metadata": {},
   "outputs": [
    {
     "name": "stdout",
     "output_type": "stream",
     "text": [
      "              precision    recall  f1-score   support\n",
      "\n",
      "        book       1.00      1.00      1.00         2\n",
      "       movie       1.00      0.83      0.91         6\n",
      "  restaurant       0.67      1.00      0.80         2\n",
      "\n",
      "    accuracy                           0.90        10\n",
      "   macro avg       0.89      0.94      0.90        10\n",
      "weighted avg       0.93      0.90      0.91        10\n",
      "\n"
     ]
    }
   ],
   "source": [
    "print(report_svc)"
   ]
  },
  {
   "cell_type": "code",
   "execution_count": 119,
   "id": "6514af55-4674-4b17-8a35-432947a432f1",
   "metadata": {},
   "outputs": [
    {
     "name": "stdout",
     "output_type": "stream",
     "text": [
      "              precision    recall  f1-score   support\n",
      "\n",
      "        book       1.00      1.00      1.00         2\n",
      "       movie       1.00      0.83      0.91         6\n",
      "  restaurant       0.67      1.00      0.80         2\n",
      "\n",
      "    accuracy                           0.90        10\n",
      "   macro avg       0.89      0.94      0.90        10\n",
      "weighted avg       0.93      0.90      0.91        10\n",
      "\n"
     ]
    }
   ],
   "source": [
    "print(report_lda_ass)"
   ]
  },
  {
   "cell_type": "markdown",
   "id": "b326b786-2a82-4f1d-a45e-9383ae744532",
   "metadata": {},
   "source": [
    "We have all algorithms perform the same on the assigned dataset. Actually they all fail at the same example."
   ]
  },
  {
   "cell_type": "code",
   "execution_count": 120,
   "id": "df20e17f-847a-4975-95ab-c78c259ce44f",
   "metadata": {},
   "outputs": [
    {
     "name": "stdout",
     "output_type": "stream",
     "text": [
      "pred \t label\n",
      "movie \t\t movie\n",
      "movie \t\t restaurant\n",
      "restaurant \t\t restaurant\n",
      "book \t\t book\n",
      "movie \t\t movie\n",
      "movie \t\t movie\n",
      "restaurant \t\t restaurant\n",
      "movie \t\t movie\n",
      "movie \t\t movie\n",
      "book \t\t book\n"
     ]
    }
   ],
   "source": [
    "print(\"pred \\t\", \"label\") \n",
    "for i in range(len(nb_pred)):\n",
    "    \n",
    "    print(nb_pred[i], \"\\t\\t\", assigned_df.topic[i])"
   ]
  },
  {
   "cell_type": "code",
   "execution_count": 121,
   "id": "a39e0b08-bffc-4aa3-ac44-dc4888cc1ec6",
   "metadata": {},
   "outputs": [
    {
     "name": "stdout",
     "output_type": "stream",
     "text": [
      "All the New York University students love this diner in Soho so it makes for a fun young atmosphere.\n"
     ]
    }
   ],
   "source": [
    "print(assigned_df.text[1])"
   ]
  },
  {
   "cell_type": "markdown",
   "id": "e103c61d-28a3-4e6f-ba73-408b27e25155",
   "metadata": {},
   "source": [
    "This is because of our training dataset. If it had more data containing the word \"diner\", then our models would identify it as a restaurant-specific word. "
   ]
  }
 ],
 "metadata": {
  "kernelspec": {
   "display_name": "Python [conda env:textmin]",
   "language": "python",
   "name": "conda-env-textmin-py"
  },
  "language_info": {
   "codemirror_mode": {
    "name": "ipython",
    "version": 3
   },
   "file_extension": ".py",
   "mimetype": "text/x-python",
   "name": "python",
   "nbconvert_exporter": "python",
   "pygments_lexer": "ipython3",
   "version": "3.7.16"
  }
 },
 "nbformat": 4,
 "nbformat_minor": 5
}
